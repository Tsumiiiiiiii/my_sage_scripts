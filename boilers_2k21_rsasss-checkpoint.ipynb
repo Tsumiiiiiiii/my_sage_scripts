{
 "cells": [
  {
   "cell_type": "code",
   "execution_count": null,
   "metadata": {},
   "outputs": [],
   "source": [
    "from Crypto.Util.number import long_to_bytes\n",
    "\n",
    "p = 7237005577332262213973186563042994240829374041602535252466099000494570602917\n",
    "q = 88653318322320212121171535397276679450159832009631056842709712756058489880609\n",
    "e = 16\n",
    "c = 128067909105216284348808993695734979917384615977985008857494038384160720721127262500602107681721675827823420594821881043967947295783995842628815275429540\n",
    "\n",
    "p_roots = mod(c, p).nth_root(e, all=True)\n",
    "q_roots = mod(c, q).nth_root(e, all=True)\n",
    "\n",
    "for xp in p_roots:\n",
    "    for xq in q_roots:\n",
    "        x = crt([Integer(xp), Integer(xq)], [p,q])\n",
    "        #x = int(x)\n",
    "        #m = long_to_bytes(x)\n",
    "        if \"28322C\" in str(hex(m)):\n",
    "            print(m)\n",
    "            exit(0)\n",
    "print(\"END\")"
   ]
  },
  {
   "cell_type": "code",
   "execution_count": null,
   "metadata": {},
   "outputs": [],
   "source": []
  }
 ],
 "metadata": {
  "kernelspec": {
   "display_name": "SageMath 9.3",
   "language": "sage",
   "name": "sagemath"
  },
  "language_info": {
   "codemirror_mode": {
    "name": "ipython",
    "version": 3
   },
   "file_extension": ".py",
   "mimetype": "text/x-python",
   "name": "python",
   "nbconvert_exporter": "python",
   "pygments_lexer": "ipython3",
   "version": "3.7.10"
  }
 },
 "nbformat": 4,
 "nbformat_minor": 4
}
