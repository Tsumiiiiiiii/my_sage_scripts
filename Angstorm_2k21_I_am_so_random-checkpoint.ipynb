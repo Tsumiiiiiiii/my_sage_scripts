{
 "cells": [
  {
   "cell_type": "code",
   "execution_count": 13,
   "metadata": {},
   "outputs": [
    {
     "name": "stdout",
     "output_type": "stream",
     "text": [
      "1480146862781111\n"
     ]
    }
   ],
   "source": [
    "prod1 = 1797154272683540\n",
    "prod2 = 7098801801555924\n",
    "\n",
    "def verify(n):\n",
    "    return n >= 10000000 and n <= 99999999\n",
    "\n",
    "def generate(seed):\n",
    "    DIGITS = 8\n",
    "    return int(str(seed**2).rjust(DIGITS * 2, \"0\")[DIGITS//2:DIGITS + DIGITS//2])\n",
    "\n",
    "def factor(num):\n",
    "    d = divisors(num)\n",
    "    for i in d:\n",
    "        if verify(i) and verify(num // i):\n",
    "            x, y = i, num // i\n",
    "            x_, y_ = generate(x), generate(y)\n",
    "            if x_ * y_ == prod2:\n",
    "                return x\n",
    "\n",
    "\n",
    "seed1 = factor(prod1)\n",
    "seed2 = prod1 // seed1\n",
    "\n",
    "assert(seed1 * seed2 == prod1)\n",
    "assert(verify(seed1) and verify(seed2))\n",
    "\n",
    "seed1_, seed2_ = generate(seed1), generate(seed2)\n",
    "\n",
    "assert(verify(seed1_) and verify(seed2_))\n",
    "assert(seed1_ * seed2_ == prod2)\n",
    "\n",
    "answer = generate(seed1_) * generate(seed2_)\n",
    "print(answer)"
   ]
  },
  {
   "cell_type": "code",
   "execution_count": null,
   "metadata": {},
   "outputs": [],
   "source": []
  },
  {
   "cell_type": "code",
   "execution_count": null,
   "metadata": {},
   "outputs": [],
   "source": []
  }
 ],
 "metadata": {
  "kernelspec": {
   "display_name": "SageMath 9.3",
   "language": "sage",
   "name": "sagemath"
  },
  "language_info": {
   "codemirror_mode": {
    "name": "ipython",
    "version": 3
   },
   "file_extension": ".py",
   "mimetype": "text/x-python",
   "name": "python",
   "nbconvert_exporter": "python",
   "pygments_lexer": "ipython3",
   "version": "3.7.10"
  }
 },
 "nbformat": 4,
 "nbformat_minor": 4
}
