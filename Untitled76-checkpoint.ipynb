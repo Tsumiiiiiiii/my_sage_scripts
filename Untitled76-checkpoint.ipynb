{
 "cells": [
  {
   "cell_type": "code",
   "execution_count": 2,
   "metadata": {},
   "outputs": [],
   "source": [
    "import socket\n",
    "\n",
    "def sendline(sock, data):\n",
    "    sock.sendall(data + b\"\\n\")\n",
    "\n",
    "def recvline(sock):\n",
    "    buf = b\"\"\n",
    "    while True:\n",
    "        data = sock.recv(1)\n",
    "        if not data:\n",
    "            break\n",
    "        buf += data\n",
    "        if data == b\"\\n\":\n",
    "            break\n",
    "    return buf\n",
    "\n",
    "def recvuntil(sock, delim):\n",
    "    buf = b\"\"\n",
    "    while True:\n",
    "        data = sock.recv(1)\n",
    "        if not data:\n",
    "            break\n",
    "        buf += data\n",
    "        if delim in buf:\n",
    "            break\n",
    "    return buf\n"
   ]
  },
  {
   "cell_type": "code",
   "execution_count": 18,
   "metadata": {},
   "outputs": [
    {
     "name": "stdout",
     "output_type": "stream",
     "text": [
      "b'}T\\xb5\\xaa<'\n",
      "b'amateursCTF{oh_n'\n",
      "b'amateursCTF{oh_no_my_one_of_a_ki'\n",
      "b'amateursCTF{oh_no_my_one_of_a_kind-err_sorry,_f4'\n",
      "b'amateursCTF{oh_no_my_one_of_a_kind-err_sorry,_f4ked_on10n_cipher'\n",
      "b'amateursCTF{oh_no_my_one_of_a_kind-err_sorry,_f4ked_on10n_cipher_got_ki11ed_730e'\n",
      "b'amateursCTF{oh_no_my_one_of_a_kind-err_sorry,_f4ked_on10n_cipher_got_ki11ed_730eb1c0\\xd0\\xeb\\xe2\\xb9\"N\\xd3n \\x01\\x1e}'\n"
     ]
    }
   ],
   "source": [
    "sock = socket.socket(socket.AF_INET, socket.SOCK_STREAM)\n",
    "sock.connect(('chal.amt.rs', 1414))\n",
    "\n",
    "def get_blocks(s, sz = 16):\n",
    "    ret = []\n",
    "    for i in range(0, len(s), sz):\n",
    "        ret.append(s[i:i+sz])\n",
    "    return ret\n",
    "\n",
    "recvuntil(sock, b'> ')\n",
    "sendline(sock, b'2')\n",
    "\n",
    "ct = bytes.fromhex(recvline(sock).decode().strip())\n",
    "blocks = get_blocks(ct)\n",
    "ans = b''\n",
    "print(blocks[-1])\n",
    "for block in blocks:\n",
    "    recvuntil(sock, b'> ')\n",
    "    sendline(sock, b'1')\n",
    "    recvuntil(sock, b': ')\n",
    "    block = block.ljust(16, b'\\x00')\n",
    "    to_send = block[1:] + bytes([block[0]])\n",
    "    sendline(sock, to_send.hex().encode())\n",
    "    m = bytes.fromhex(recvline(sock).decode().strip())\n",
    "    #print(m)\n",
    "    m = m[1:] + bytes([m[0]])\n",
    "    ans += m\n",
    "    print(ans)\n",
    "    \n",
    "#amateursCTF{oh_no_my_one_of_a_kind-err_sorry,_f4ked_on10n_cipher_got_ki11ed_730eb1c0}"
   ]
  },
  {
   "cell_type": "code",
   "execution_count": 15,
   "metadata": {},
   "outputs": [
    {
     "data": {
      "text/plain": [
       "b'aa\\x00\\x00\\x00\\x00\\x00\\x00\\x00\\x00\\x00\\x00\\x00\\x00\\x00\\x00'"
      ]
     },
     "execution_count": 15,
     "metadata": {},
     "output_type": "execute_result"
    }
   ],
   "source": [
    "def nextPrime(p, n):\n",
    "    p += (n - p) % n\n",
    "    p += 1\n",
    "    iters = 0\n",
    "    while not isPrime(p):\n",
    "        p += n\n",
    "    return p"
   ]
  },
  {
   "cell_type": "code",
   "execution_count": null,
   "metadata": {},
   "outputs": [],
   "source": []
  }
 ],
 "metadata": {
  "kernelspec": {
   "display_name": "SageMath 9.3",
   "language": "sage",
   "name": "sagemath"
  },
  "language_info": {
   "codemirror_mode": {
    "name": "ipython",
    "version": 3
   },
   "file_extension": ".py",
   "mimetype": "text/x-python",
   "name": "python",
   "nbconvert_exporter": "python",
   "pygments_lexer": "ipython3",
   "version": "3.7.10"
  }
 },
 "nbformat": 4,
 "nbformat_minor": 4
}
