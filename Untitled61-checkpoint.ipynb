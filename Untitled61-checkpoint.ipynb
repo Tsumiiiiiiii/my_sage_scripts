{
 "cells": [
  {
   "cell_type": "code",
   "execution_count": 1,
   "metadata": {},
   "outputs": [],
   "source": []
  },
  {
   "cell_type": "code",
   "execution_count": null,
   "metadata": {},
   "outputs": [],
   "source": [
    "import random\n",
    "import signal\n",
    "import string\n",
    "from Crypto.Util.number import *\n",
    "from hashlib import sha256\n",
    "\n",
    "from os import urandom\n",
    "\n",
    "FLAG = b'ctf{f3k3_fl4g_g0_brr_____}'\n",
    "\n",
    "P_BITS = 512\n",
    "E_BITS = int(P_BITS * 2 * 0.292) + 30\n",
    "CNT_MAX = 7\n",
    "\n",
    "class LCG:\n",
    "    def __init__(self):\n",
    "        self.init()\n",
    "\n",
    "    def next(self):\n",
    "        out = self.s[0]\n",
    "        self.s = self.s[1: ] + [(sum([i * j for (i, j) in zip(self.a, self.s)]) + self.b) % self.p]\n",
    "        return out\n",
    "\n",
    "    def init(self):\n",
    "        while True:\n",
    "            p = getPrime(2 * P_BITS)\n",
    "            if p.bit_length() == 2 * P_BITS:\n",
    "                self.p = p\n",
    "                break\n",
    "        self.b = getRandomRange(1, self.p)\n",
    "        self.a = [getRandomRange(1, self.p) for _ in range(6)]\n",
    "        self.s = [getRandomRange(1, self.p) for _ in range(6)]\n",
    "\n",
    "class RSA:\n",
    "    def __init__(self, l, p=0, q=0):\n",
    "        self.l = l\n",
    "        if not p:\n",
    "            while True:\n",
    "                p = getPrime(P_BITS)\n",
    "                if p.bit_length() == P_BITS:\n",
    "                    self.p = p\n",
    "                    break\n",
    "            while True:\n",
    "                q = getPrime(P_BITS)\n",
    "                if q.bit_length() == P_BITS:\n",
    "                    self.q = q\n",
    "                    break\n",
    "        else:\n",
    "            self.p = abs(p)\n",
    "            self.q = abs(q)\n",
    "        self.e = getPrime(E_BITS)\n",
    "        self.check()\n",
    "\n",
    "    def enc(self, m):\n",
    "        return pow(m, self.e, self.n)\n",
    "\n",
    "    def noisy_enc(self, m, r=1):\n",
    "        if r:\n",
    "            self.refresh()\n",
    "        return pow(m, self.e ^^ self.l.next(), self.n)\n",
    "\n",
    "    def dec(self, c):\n",
    "        return pow(c, self.d, self.n)\n",
    "\n",
    "    def check(self):\n",
    "        assert self.p.bit_length() == P_BITS\n",
    "        assert self.q.bit_length() == P_BITS\n",
    "        self.n = self.p * self.q\n",
    "        self.phi = (self.p - 1) * (self.q - 1)\n",
    "        assert self.e.bit_length() >= E_BITS\n",
    "        assert self.e < self.phi\n",
    "        assert GCD(self.e, self.phi) == 1\n",
    "        self.d = inverse(self.e, self.phi)\n",
    "        assert self.d.bit_length() >= E_BITS\n",
    "        for _ in range(20):\n",
    "            x = self.l.next() % self.n\n",
    "            assert self.dec(self.enc(x)) == x\n",
    "\n",
    "    def refresh(self):\n",
    "        self.e = (self.e ^^ self.l.next()) % (2 ** E_BITS)\n",
    "\n",
    "class Task:\n",
    "    def __init__(self):\n",
    "        pass\n",
    "\n",
    "    def proof_of_work(self):\n",
    "        random.seed(urandom(16))\n",
    "        proof = ''.join([random.choice(string.ascii_letters + string.digits) for _ in range(20)])\n",
    "        digest = sha256(proof.encode()).hexdigest()\n",
    "        print(f'sha256(XXXX + {proof[4:]}) == {digest}')\n",
    "        print('Give me XXXX:')\n",
    "        x = input().strip()\n",
    "        if len(x) != 4 or sha256((x + proof[4:]).encode()).hexdigest() != digest:\n",
    "            return False\n",
    "        return True\n",
    "\n",
    "    def timeout_handler(self, signum, frame):\n",
    "        raise TimeoutError\n",
    "\n",
    "    def recv_hex(self, l):\n",
    "        return int(input().strip(), 16)\n",
    "\n",
    "    def handle(self):\n",
    "        #signal.signal(signal.SIGALRM, self.timeout_handler)\n",
    "        #signal.alarm(60)\n",
    "        # if not self.proof_of_work():\n",
    "        #     pass\n",
    "        #     print('You must pass the PoW!')\n",
    "        #     return\n",
    "\n",
    "        #signal.alarm(20)\n",
    "        print('Give me your RSA key plz.')\n",
    "        pq = [self.recv_hex(P_BITS // 4) for _ in range(2)]\n",
    "        lcg = LCG()\n",
    "        alice = RSA(lcg)\n",
    "        bob = RSA(lcg, *pq)\n",
    "        secrets = getRandomNBitInteger(P_BITS // 8)\n",
    "        secrets_ct = alice.enc(secrets)\n",
    "        print(f'{alice.e}\\n{alice.n}')\n",
    "        print(f'{lcg.p}\\n{lcg.a}\\n{lcg.b}\\n{lcg.s}')\n",
    "\n",
    "        CNT = 0\n",
    "        while CNT < CNT_MAX:\n",
    "            print('pt: ', end='')\n",
    "            pt = self.recv_hex(P_BITS // 2)\n",
    "            if pt == 0:\n",
    "                break\n",
    "            ct = alice.noisy_enc(pt)\n",
    "            ct = bob.noisy_enc(ct)\n",
    "            print('ct:', hex(ct))\n",
    "            CNT += 1\n",
    "        print(secrets_ct)\n",
    "        secrets_ct = bob.noisy_enc(secrets_ct)\n",
    "        print('secrets_ct:', hex(secrets_ct))\n",
    "        lcg.init()\n",
    "        bob = RSA(lcg, *pq)\n",
    "        print(f'{lcg.p}\\n{lcg.a}\\n{lcg.b}\\n{lcg.s}')\n",
    "\n",
    "        seen = set()\n",
    "        while CNT < CNT_MAX:\n",
    "            print('ct: ', end='')\n",
    "            ct = self.recv_hex(P_BITS // 2)\n",
    "            if ct == 0:\n",
    "                break\n",
    "            pt = alice.dec(ct)\n",
    "            if pt in seen:\n",
    "                print('You can only decrypt each ciphertext once.')\n",
    "                return\n",
    "            else:\n",
    "                seen.add(pt)\n",
    "            pt = bob.noisy_enc(pt)\n",
    "            print('pt:', hex(pt))\n",
    "            CNT += 1\n",
    "\n",
    "        guess = self.recv_hex(P_BITS // 4)\n",
    "        if guess == secrets:\n",
    "            print('Wow, how do you know that?')\n",
    "            print('Here is the flag:', FLAG)\n",
    "        else:\n",
    "            print('Wrong!')\n",
    "        return\n",
    "\n",
    "if __name__ == \"__main__\":\n",
    "    task = Task()\n",
    "    task.handle()\n"
   ]
  },
  {
   "cell_type": "code",
   "execution_count": 1,
   "metadata": {},
   "outputs": [],
   "source": [
    "from binascii import hexlify\n",
    "from gmpy2 import *\n",
    "import math\n",
    "import os\n",
    "import sys\n",
    "\n",
    "\n",
    "SEED = mpz(hexlify(os.urandom(32)).decode(), 16)\n",
    "STATE = random_state(SEED)\n",
    "\n",
    "\n",
    "def get_prime(state, bits):\n",
    "    return next_prime(mpz_urandomb(state, bits) | (1 << (bits - 1)))\n",
    "\n",
    "\n",
    "def get_smooth_prime(state, bits, smoothness=16):\n",
    "    p = mpz(2)\n",
    "    p_factors = [p]\n",
    "    while p.bit_length() < bits - 2 * smoothness:\n",
    "        factor = get_prime(state, smoothness)\n",
    "        p_factors.append(factor)\n",
    "        p *= factor\n",
    "        \n",
    "\n",
    "    bitcnt = (bits - p.bit_length()) // 2\n",
    "\n",
    "    while True:\n",
    "        prime1 = get_prime(state, bitcnt)\n",
    "        prime2 = get_prime(state, bitcnt)\n",
    "        tmpp = p * prime1 * prime2\n",
    "        if tmpp.bit_length() < bits:\n",
    "            bitcnt += 1\n",
    "            continue\n",
    "        if tmpp.bit_length() > bits:\n",
    "            bitcnt -= 1\n",
    "            continue\n",
    "        if is_prime(tmpp + 1):\n",
    "            p_factors.append(prime1)\n",
    "            p_factors.append(prime2)\n",
    "            p = tmpp + 1\n",
    "            break\n",
    "\n",
    "    p_factors.sort()\n",
    "\n",
    "    return (p, p_factors)\n",
    "\n",
    "\n",
    "#P, pfs = get_smooth_prime(STATE, 512)\n"
   ]
  },
  {
   "cell_type": "code",
   "execution_count": 2,
   "metadata": {},
   "outputs": [],
   "source": [
    "from tqdm import tqdm\n",
    "\n",
    "P_BITS = 512\n",
    "\n",
    "def dlog(g, y, p, pfs):\n",
    "    F = GF(p)\n",
    "    mods, res = [], []\n",
    "    for prime in pfs:\n",
    "        r = (p-1)//prime\n",
    "        Pg = F(g)^r\n",
    "        Py = F(y)^r\n",
    "        res.append(discrete_log(Py, Pg))\n",
    "        mods.append(prime)\n",
    "    return crt(res, mods)\n",
    "\n",
    "def dlog_composite(g, y, primes, facts):\n",
    "    mods, res = [], []\n",
    "    for p, pf in tqdm(zip(primes, facts)):\n",
    "        res.append(dlog(g, y, p, pf))\n",
    "        mods.append(p - 1)\n",
    "    return crt(res, mods)\n"
   ]
  },
  {
   "cell_type": "code",
   "execution_count": 3,
   "metadata": {},
   "outputs": [
    {
     "data": {
      "text/plain": [
       "(10902995298555379214173922615534898283384518483931807056619746678584622512049509408032957357947895499327690145411631247921912901667778501909030057938518863,\n",
       " 12274909239996328672653125301682106499291367864729384741992307956851485249039354146766582663498689810555011312721394468295425937240245825348732639190926223)"
      ]
     },
     "execution_count": 3,
     "metadata": {},
     "output_type": "execute_result"
    }
   ],
   "source": [
    "while True:\n",
    "    p, pf1 = get_smooth_prime(STATE, 512)\n",
    "    p = int(p)\n",
    "    if p.bit_length() == P_BITS: break\n",
    "        \n",
    "while True:\n",
    "    q, pf2 = get_smooth_prime(STATE, 512)\n",
    "    q = int(q)\n",
    "    if q.bit_length() == P_BITS: break\n",
    "        \n",
    "p, q"
   ]
  },
  {
   "cell_type": "code",
   "execution_count": 4,
   "metadata": {},
   "outputs": [
    {
     "name": "stdout",
     "output_type": "stream",
     "text": [
      "13299307709408882842\n"
     ]
    }
   ],
   "source": [
    "from Crypto.Util.number import *\n",
    "\n",
    "n = p * q\n",
    "secrets = getRandomNBitInteger(P_BITS // 8)\n",
    "\n",
    "print(secrets)\n",
    "\n",
    "y = pow(3, secrets, n)\n"
   ]
  },
  {
   "cell_type": "code",
   "execution_count": 5,
   "metadata": {},
   "outputs": [
    {
     "name": "stderr",
     "output_type": "stream",
     "text": [
      "2it [00:04,  2.11s/it]"
     ]
    },
    {
     "name": "stdout",
     "output_type": "stream",
     "text": [
      "13299307709408882842\n"
     ]
    },
    {
     "name": "stderr",
     "output_type": "stream",
     "text": [
      "\n"
     ]
    }
   ],
   "source": [
    "sec = dlog_composite(3, y, [p, q], [pf1, pf2])\n",
    "print(sec)"
   ]
  },
  {
   "cell_type": "code",
   "execution_count": 16,
   "metadata": {},
   "outputs": [
    {
     "data": {
      "text/plain": [
       "16803998651525666372162064344294759209429351018507714974539262720787015393812605036758150911956777421784313067608844950198472564436163888022606141012136983634037993757915092707350638013684471538263234576781601709063840037270774921898842387279600232084495849043684891158454993726397556946149024199430662399242"
      ]
     },
     "execution_count": 16,
     "metadata": {},
     "output_type": "execute_result"
    }
   ],
   "source": [
    "phi = (p - 1) * (q - 1)\n",
    "sec % phi"
   ]
  },
  {
   "cell_type": "code",
   "execution_count": 17,
   "metadata": {},
   "outputs": [
    {
     "data": {
      "text/plain": [
       "False"
      ]
     },
     "execution_count": 17,
     "metadata": {},
     "output_type": "execute_result"
    }
   ],
   "source": [
    "pow(3, sec, n) == y"
   ]
  },
  {
   "cell_type": "code",
   "execution_count": 12,
   "metadata": {},
   "outputs": [
    {
     "name": "stdout",
     "output_type": "stream",
     "text": [
      "0 1 0 0 1 0 1 1 1 0 1 0 0 0 0 1 1 1 1 0 "
     ]
    }
   ],
   "source": [
    "P_BITS = 512\n",
    "E_BITS = int(P_BITS * 2 * 0.292) + 30\n",
    "CNT_MAX = 7\n",
    "\n",
    "class LCG:\n",
    "    def __init__(self):\n",
    "        self.init()\n",
    "\n",
    "    def next(self):\n",
    "        out = self.s[0]\n",
    "        self.s = self.s[1: ] + [(sum([i * j for (i, j) in zip(self.a, self.s)]) + self.b) % self.p]\n",
    "        return out\n",
    "\n",
    "    def init(self):\n",
    "        while True:\n",
    "            p = getPrime(2 * P_BITS)\n",
    "            if p.bit_length() == 2 * P_BITS:\n",
    "                self.p = p\n",
    "                break\n",
    "        self.b = getRandomRange(1, self.p)\n",
    "        self.a = [getRandomRange(1, self.p) for _ in range(6)]\n",
    "        self.s = [getRandomRange(1, self.p) for _ in range(6)]\n",
    "        \n",
    "lmao = LCG()\n",
    "\n",
    "for i in range(20):\n",
    "    print(lmao.next() & 1, end = ' ')"
   ]
  },
  {
   "cell_type": "code",
   "execution_count": 14,
   "metadata": {},
   "outputs": [],
   "source": [
    "import socket\n",
    "\n",
    "def sendline(sock, data):\n",
    "    sock.sendall(data + b\"\\n\")\n",
    "\n",
    "def recvline(sock):\n",
    "    buf = b\"\"\n",
    "    while True:\n",
    "        data = sock.recv(1)\n",
    "        if not data:\n",
    "            break\n",
    "        buf += data\n",
    "        if data == b\"\\n\":\n",
    "            break\n",
    "    return buf\n",
    "\n",
    "def recvuntil(sock, delim):\n",
    "    buf = b\"\"\n",
    "    while True:\n",
    "        data = sock.recv(1)\n",
    "        if not data:\n",
    "            break\n",
    "        buf += data\n",
    "        if delim in buf:\n",
    "            break\n",
    "    return buf\n"
   ]
  },
  {
   "cell_type": "code",
   "execution_count": 53,
   "metadata": {},
   "outputs": [
    {
     "name": "stdout",
     "output_type": "stream",
     "text": [
      "Trying...\n",
      "Trying...\n",
      "Trying...\n",
      "Trying...\n",
      "Trying...\n",
      ":Thonk\n",
      ":Thonk more :0 :0 :0\n"
     ]
    },
    {
     "name": "stderr",
     "output_type": "stream",
     "text": [
      "2it [00:03,  1.85s/it]\n"
     ]
    },
    {
     "name": "stdout",
     "output_type": "stream",
     "text": [
      "71687207728299686893086699259754507009999983848301852034869567633627621575973118141486727970972958594319253873808518804524428754409896434098627489975974995740980903834076940639104075022611609796256833547671978046446336074155639009222202698402948011504591473895633103622956857892058273403392629827848829318319\n",
      "118097862335938588527995196628675679663538535854331156458324567112049786007918496567289518884297265882767136772353598937937595136396104758159822422821197257994812601480399619990952487813467781522910144063339757031182012079279666594975279607272088167339758367137492885478282671066959615909711830367815610014131\n",
      "True\n",
      ":On to the next Round\n"
     ]
    },
    {
     "ename": "AssertionError",
     "evalue": "",
     "output_type": "error",
     "traceback": [
      "\u001b[0;31m---------------------------------------------------------------------------\u001b[0m",
      "\u001b[0;31mAssertionError\u001b[0m                            Traceback (most recent call last)",
      "\u001b[0;32m<ipython-input-53-1ef608866acd>\u001b[0m in \u001b[0;36m<module>\u001b[0;34m\u001b[0m\n\u001b[1;32m    112\u001b[0m \u001b[0;32mwhile\u001b[0m \u001b[0;32mTrue\u001b[0m\u001b[0;34m:\u001b[0m\u001b[0;34m\u001b[0m\u001b[0;34m\u001b[0m\u001b[0m\n\u001b[1;32m    113\u001b[0m     \u001b[0mprint\u001b[0m\u001b[0;34m(\u001b[0m\u001b[0;34m'Trying...'\u001b[0m\u001b[0;34m)\u001b[0m\u001b[0;34m\u001b[0m\u001b[0;34m\u001b[0m\u001b[0m\n\u001b[0;32m--> 114\u001b[0;31m     \u001b[0mrun\u001b[0m\u001b[0;34m(\u001b[0m\u001b[0;34m)\u001b[0m\u001b[0;34m\u001b[0m\u001b[0;34m\u001b[0m\u001b[0m\n\u001b[0m",
      "\u001b[0;32m<ipython-input-53-1ef608866acd>\u001b[0m in \u001b[0;36mrun\u001b[0;34m()\u001b[0m\n\u001b[1;32m     99\u001b[0m     \u001b[0mlcg\u001b[0m \u001b[0;34m=\u001b[0m \u001b[0mLCG\u001b[0m\u001b[0;34m(\u001b[0m\u001b[0mlcg_p\u001b[0m\u001b[0;34m,\u001b[0m \u001b[0mlcg_a\u001b[0m\u001b[0;34m,\u001b[0m \u001b[0mlcg_b\u001b[0m\u001b[0;34m,\u001b[0m \u001b[0mlcg_s\u001b[0m\u001b[0;34m)\u001b[0m\u001b[0;34m\u001b[0m\u001b[0;34m\u001b[0m\u001b[0m\n\u001b[1;32m    100\u001b[0m     \u001b[0mrands\u001b[0m \u001b[0;34m=\u001b[0m \u001b[0;34m[\u001b[0m\u001b[0mlcg\u001b[0m\u001b[0;34m.\u001b[0m\u001b[0mnext\u001b[0m\u001b[0;34m(\u001b[0m\u001b[0;34m)\u001b[0m \u001b[0;32mfor\u001b[0m \u001b[0m_\u001b[0m \u001b[0;32min\u001b[0m \u001b[0mrange\u001b[0m\u001b[0;34m(\u001b[0m\u001b[0mInteger\u001b[0m\u001b[0;34m(\u001b[0m\u001b[0;36m2\u001b[0m\u001b[0;34m)\u001b[0m\u001b[0;34m)\u001b[0m\u001b[0;34m]\u001b[0m\u001b[0;34m\u001b[0m\u001b[0;34m\u001b[0m\u001b[0m\n\u001b[0;32m--> 101\u001b[0;31m     \u001b[0;32massert\u001b[0m\u001b[0;34m(\u001b[0m\u001b[0mrands\u001b[0m\u001b[0;34m[\u001b[0m\u001b[0mInteger\u001b[0m\u001b[0;34m(\u001b[0m\u001b[0;36m0\u001b[0m\u001b[0;34m)\u001b[0m\u001b[0;34m]\u001b[0m \u001b[0;34m%\u001b[0m \u001b[0mInteger\u001b[0m\u001b[0;34m(\u001b[0m\u001b[0;36m2\u001b[0m\u001b[0;34m)\u001b[0m \u001b[0;34m!=\u001b[0m \u001b[0mrands\u001b[0m\u001b[0;34m[\u001b[0m\u001b[0mInteger\u001b[0m\u001b[0;34m(\u001b[0m\u001b[0;36m1\u001b[0m\u001b[0;34m)\u001b[0m\u001b[0;34m]\u001b[0m \u001b[0;34m%\u001b[0m \u001b[0mInteger\u001b[0m\u001b[0;34m(\u001b[0m\u001b[0;36m2\u001b[0m\u001b[0;34m)\u001b[0m\u001b[0;34m)\u001b[0m\u001b[0;34m\u001b[0m\u001b[0;34m\u001b[0m\u001b[0m\n\u001b[0m\u001b[1;32m    102\u001b[0m \u001b[0;34m\u001b[0m\u001b[0m\n\u001b[1;32m    103\u001b[0m     \u001b[0menc_three\u001b[0m \u001b[0;34m=\u001b[0m \u001b[0mpow\u001b[0m\u001b[0;34m(\u001b[0m\u001b[0mInteger\u001b[0m\u001b[0;34m(\u001b[0m\u001b[0;36m3\u001b[0m\u001b[0;34m)\u001b[0m\u001b[0;34m,\u001b[0m \u001b[0malice_e\u001b[0m\u001b[0;34m,\u001b[0m \u001b[0malice_n\u001b[0m\u001b[0;34m)\u001b[0m\u001b[0;34m\u001b[0m\u001b[0;34m\u001b[0m\u001b[0m\n",
      "\u001b[0;31mAssertionError\u001b[0m: "
     ]
    }
   ],
   "source": [
    "E_BITS = int(P_BITS * 2 * 0.292) + 30\n",
    "\n",
    "class LCG:\n",
    "    def __init__(self, p, a, b, s):\n",
    "        self.p = p\n",
    "        self.a = a\n",
    "        self.b = b\n",
    "        self.s = s\n",
    "\n",
    "    def next(self):\n",
    "        out = self.s[0]\n",
    "        self.s = self.s[1: ] + [(sum([i * j for (i, j) in zip(self.a, self.s)]) + self.b) % self.p]\n",
    "        return out\n",
    "\n",
    "\n",
    "def run():\n",
    "    sock = socket.socket(socket.AF_INET, socket.SOCK_STREAM)\n",
    "    sock.connect(('0.0.0.0', 5000))\n",
    "\n",
    "    recvline(sock)\n",
    "    \n",
    "    while True:\n",
    "        p, pf1 = get_smooth_prime(STATE, 512)\n",
    "        p = int(p)\n",
    "        if p.bit_length() == P_BITS: break\n",
    "        \n",
    "    while True:\n",
    "        q, pf2 = get_smooth_prime(STATE, 512)\n",
    "        q = int(q)\n",
    "        if q.bit_length() == P_BITS: break\n",
    "            \n",
    "            \n",
    "    sendline(sock, str(hex(p)[2:]).encode())\n",
    "    sendline(sock, str(hex(q)[2:]).encode())\n",
    "    \n",
    "    n = p * q\n",
    "    \n",
    "    alice_e = int(recvline(sock).decode().strip())\n",
    "    alice_n = int(recvline(sock).decode().strip())\n",
    "    \n",
    "    if alice_n > n:\n",
    "        return\n",
    "    \n",
    "    print(':Thonk')\n",
    "    \n",
    "    phi = (p - 1) * (q - 1)\n",
    "    \n",
    "#     secret = getRandomNBitInteger(P_BITS // 8)\n",
    "#     e = getPrime(E_BITS)\n",
    "#     e = secret ^^ e\n",
    "#     print(e)\n",
    "#     base = getRandomNBitInteger(P_BITS // 8)\n",
    "#     g = pow(base, alice_e ^^ getRandomNBitInteger(P_BITS // 8), alice_n)\n",
    "#     y = pow(g, e, n)\n",
    "#     sec = dlog_composite(g, y, [p, q], [pf1, pf2])\n",
    "#     print(sec)\n",
    "#     print('IMaginray calcs done')\n",
    "    \n",
    "    \n",
    "    lcg_p = int(recvline(sock).decode().strip())\n",
    "    lcg_a = eval(recvline(sock).decode().strip())\n",
    "    lcg_b = int(recvline(sock).decode().strip())\n",
    "    lcg_s = eval(recvline(sock).decode().strip())\n",
    "    \n",
    "    lcg = LCG(lcg_p, lcg_a, lcg_b, lcg_s)\n",
    "    rands = [lcg.next() for _ in range(4)]\n",
    "    mask = -1\n",
    "    cnt = 0\n",
    "    \n",
    "    for idx, rand in enumerate(rands):\n",
    "        if rand %2 == 0 and idx > 0:\n",
    "            break\n",
    "        recvuntil(soc, b'pt: ')\n",
    "        sendline(sock, b'2')\n",
    "        y = int(recvline(sock).decode().strip().split(': ')[1], 16)\n",
    "        mask = rand\n",
    "        cnt += 1\n",
    "        \n",
    "    assert(mask > 1)\n",
    "    g = pow(2, alice_e ^^ mask, alice_n)\n",
    "    e1_ = dlog_composite(g, y, [p, q], [pf1, pf2])\n",
    "    e1 = int(e1_ ^^ rands[0])\n",
    "    print(e1)\n",
    "    \n",
    "    recvuntil(sock, b'pt: ')\n",
    "    sendline(sock, b'0')\n",
    "    \n",
    "    recvline(sock)\n",
    "    secrets_ct = int(recvline(sock).decode().strip().split(': ')[1], 16)\n",
    "    \n",
    "    e1_ = int(e1 ^^ rands[1])\n",
    "    print(e1_)\n",
    "    d1_ = int(pow(e1_, -1, phi))\n",
    "    secrets_ct = int(pow(secrets_ct, d1_, n))\n",
    "    print(secrets_ct < alice_n)\n",
    "    \n",
    "    print(':On to the next Round')\n",
    "    \n",
    "    lcg_p = int(recvline(sock).decode().strip())\n",
    "    lcg_a = eval(recvline(sock).decode().strip())\n",
    "    lcg_b = int(recvline(sock).decode().strip())\n",
    "    lcg_s = eval(recvline(sock).decode().strip())\n",
    "    \n",
    "    lcg = LCG(lcg_p, lcg_a, lcg_b, lcg_s)\n",
    "    rands = [lcg.next() for _ in range(2)]\n",
    "    assert(rands[0] % 2 != rands[1] % 2)\n",
    "    \n",
    "    enc_three = pow(3, alice_e, alice_n)\n",
    "    \n",
    "    if rands[0] & 1:\n",
    "        recvuntil(sock, b'ct: ')\n",
    "        sendline(sock)\n",
    "        recvline(sock)\n",
    "        \n",
    "    \n",
    "\n",
    "while True:\n",
    "    print('Trying...')\n",
    "    run()"
   ]
  },
  {
   "cell_type": "code",
   "execution_count": 43,
   "metadata": {},
   "outputs": [
    {
     "name": "stdout",
     "output_type": "stream",
     "text": [
      "[2, 3, 4]\n"
     ]
    }
   ],
   "source": [
    "x = eval('[2, 3, 4]')\n",
    "print(x)"
   ]
  },
  {
   "cell_type": "code",
   "execution_count": null,
   "metadata": {},
   "outputs": [],
   "source": []
  }
 ],
 "metadata": {
  "kernelspec": {
   "display_name": "SageMath 9.3",
   "language": "sage",
   "name": "sagemath"
  },
  "language_info": {
   "codemirror_mode": {
    "name": "ipython",
    "version": 3
   },
   "file_extension": ".py",
   "mimetype": "text/x-python",
   "name": "python",
   "nbconvert_exporter": "python",
   "pygments_lexer": "ipython3",
   "version": "3.7.10"
  }
 },
 "nbformat": 4,
 "nbformat_minor": 4
}
