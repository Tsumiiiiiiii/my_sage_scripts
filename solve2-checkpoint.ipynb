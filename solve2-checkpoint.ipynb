{
 "cells": [
  {
   "cell_type": "code",
   "execution_count": 1,
   "id": "30daa521",
   "metadata": {},
   "outputs": [
    {
     "data": {
      "text/plain": [
       "Elliptic Curve defined by y^2 = x^3 + 6277101735386680763835789423207666416083908700390324961276*x + 2455155546008943817740293915197451784769108058161191238065 over Finite Field of size 6277101735386680763835789423207666416083908700390324961279"
      ]
     },
     "execution_count": 1,
     "metadata": {},
     "output_type": "execute_result"
    }
   ],
   "source": [
    "p = 0xfffffffffffffffffffffffffffffffeffffffffffffffff\n",
    "a = 0xfffffffffffffffffffffffffffffffefffffffffffffffc\n",
    "b = 0x64210519e59c80e70fa7e9ab72243049feb8deecc146b9b1\n",
    "ec0 = EllipticCurve(GF(p), [a,b])\n",
    "ec0"
   ]
  },
  {
   "cell_type": "code",
   "execution_count": 3,
   "id": "084773d6",
   "metadata": {},
   "outputs": [
    {
     "name": "stdout",
     "output_type": "stream",
     "text": [
      "Generating EC #1\n",
      "Generating EC #2\n",
      "Generating EC #3\n",
      "Generating EC #4\n"
     ]
    }
   ],
   "source": [
    "ecs = []\n",
    "for i in range(1, 5):\n",
    "    print(f\"Generating EC #{i}\")\n",
    "    while True:\n",
    "        b = randint(0, p-1)\n",
    "        ec_candidate = EllipticCurve(GF(p), [a, b])\n",
    "        order_fact = factor(ec_candidate.order())\n",
    "        good_curve = False\n",
    "        for (prime, power) in order_fact:\n",
    "            length = int(prime).bit_length()\n",
    "            if length >= 42 and length <= 48:\n",
    "                ecs.append((ec_candidate, prime))\n",
    "                good_curve = True\n",
    "                break\n",
    "        if good_curve:\n",
    "            break"
   ]
  },
  {
   "cell_type": "code",
   "execution_count": 4,
   "id": "ffb2eaca",
   "metadata": {
    "scrolled": true
   },
   "outputs": [
    {
     "data": {
      "text/plain": [
       "[(Elliptic Curve defined by y^2 = x^3 + 6277101735386680763835789423207666416083908700390324961276*x + 3112050759649281189296378802695874518035971456751012767950 over Finite Field of size 6277101735386680763835789423207666416083908700390324961279,\n",
       "  34896682396649),\n",
       " (Elliptic Curve defined by y^2 = x^3 + 6277101735386680763835789423207666416083908700390324961276*x + 5458782144827305110084501727858033448038556590674189810758 over Finite Field of size 6277101735386680763835789423207666416083908700390324961279,\n",
       "  81137742608599),\n",
       " (Elliptic Curve defined by y^2 = x^3 + 6277101735386680763835789423207666416083908700390324961276*x + 5788461545499124759231725503804358686443296047091811786562 over Finite Field of size 6277101735386680763835789423207666416083908700390324961279,\n",
       "  3545723088617),\n",
       " (Elliptic Curve defined by y^2 = x^3 + 6277101735386680763835789423207666416083908700390324961276*x + 6121708166136483077567998141312658973495749522543934264001 over Finite Field of size 6277101735386680763835789423207666416083908700390324961279,\n",
       "  126737131881907)]"
      ]
     },
     "execution_count": 4,
     "metadata": {},
     "output_type": "execute_result"
    }
   ],
   "source": [
    "ecs"
   ]
  },
  {
   "cell_type": "code",
   "execution_count": 5,
   "id": "8d034430",
   "metadata": {},
   "outputs": [],
   "source": [
    "ec1 = ecs[0][0]\n",
    "ec2 = ecs[1][0]\n",
    "ec3 = ecs[2][0]\n",
    "ec4 = ecs[3][0]"
   ]
  },
  {
   "cell_type": "code",
   "execution_count": 6,
   "id": "d3006cc1",
   "metadata": {},
   "outputs": [],
   "source": [
    "p1 = (ec1.order()/ecs[0][1])*ec1.gen(0)\n",
    "p2 = (ec2.order()/ecs[1][1])*ec2.gen(0)\n",
    "p3 = (ec3.order()/ecs[2][1])*ec3.gen(0)\n",
    "p4 = (ec4.order()/ecs[3][1])*ec4.gen(0)"
   ]
  },
  {
   "cell_type": "code",
   "execution_count": 7,
   "id": "089995da",
   "metadata": {},
   "outputs": [
    {
     "data": {
      "text/plain": [
       "(2807111821753270235606952749555142290636243909870425884218 : 1844630281417213967453319791679056021580609118298319303618 : 1)"
      ]
     },
     "execution_count": 7,
     "metadata": {},
     "output_type": "execute_result"
    }
   ],
   "source": [
    "p1"
   ]
  },
  {
   "cell_type": "code",
   "execution_count": 8,
   "id": "39193ff1",
   "metadata": {},
   "outputs": [
    {
     "data": {
      "text/plain": [
       "(1521362811409649023155117926818594038554710541151944509982 : 5139835840888559120726224597204329955143025155951305015076 : 1)"
      ]
     },
     "execution_count": 8,
     "metadata": {},
     "output_type": "execute_result"
    }
   ],
   "source": [
    "p2"
   ]
  },
  {
   "cell_type": "code",
   "execution_count": 9,
   "id": "8104fa6d",
   "metadata": {},
   "outputs": [
    {
     "data": {
      "text/plain": [
       "(2973424016325249905511073300106934126855998367618429681300 : 2995816855245136400104350751531029697342991291545621614807 : 1)"
      ]
     },
     "execution_count": 9,
     "metadata": {},
     "output_type": "execute_result"
    }
   ],
   "source": [
    "p3"
   ]
  },
  {
   "cell_type": "code",
   "execution_count": 10,
   "id": "2bed6811",
   "metadata": {},
   "outputs": [
    {
     "data": {
      "text/plain": [
       "(5496661980615164490588504558003381187721016101792754322524 : 3205869654254971744522332206255447147155280600991525420284 : 1)"
      ]
     },
     "execution_count": 10,
     "metadata": {},
     "output_type": "execute_result"
    }
   ],
   "source": [
    "p4"
   ]
  },
  {
   "cell_type": "code",
   "execution_count": 11,
   "id": "bd47426f",
   "metadata": {},
   "outputs": [
    {
     "data": {
      "text/plain": [
       "34896682396649"
      ]
     },
     "execution_count": 11,
     "metadata": {},
     "output_type": "execute_result"
    }
   ],
   "source": [
    "p1.order()"
   ]
  },
  {
   "cell_type": "code",
   "execution_count": 12,
   "id": "9567279c",
   "metadata": {},
   "outputs": [
    {
     "data": {
      "text/plain": [
       "81137742608599"
      ]
     },
     "execution_count": 12,
     "metadata": {},
     "output_type": "execute_result"
    }
   ],
   "source": [
    "p2.order()"
   ]
  },
  {
   "cell_type": "code",
   "execution_count": 13,
   "id": "ac23c815",
   "metadata": {},
   "outputs": [
    {
     "data": {
      "text/plain": [
       "3545723088617"
      ]
     },
     "execution_count": 13,
     "metadata": {},
     "output_type": "execute_result"
    }
   ],
   "source": [
    "p3.order()"
   ]
  },
  {
   "cell_type": "code",
   "execution_count": 14,
   "id": "7500ee12",
   "metadata": {},
   "outputs": [
    {
     "data": {
      "text/plain": [
       "126737131881907"
      ]
     },
     "execution_count": 14,
     "metadata": {},
     "output_type": "execute_result"
    }
   ],
   "source": [
    "p4.order()"
   ]
  },
  {
   "cell_type": "code",
   "execution_count": 15,
   "id": "9dd64ec3",
   "metadata": {},
   "outputs": [
    {
     "data": {
      "text/plain": [
       "4933"
      ]
     },
     "execution_count": 15,
     "metadata": {},
     "output_type": "execute_result"
    }
   ],
   "source": [
    "int(ec0.order() / (p1.order() * p2.order() * p3.order() * p4.order()))"
   ]
  },
  {
   "cell_type": "code",
   "execution_count": 16,
   "id": "71db1eb2",
   "metadata": {},
   "outputs": [
    {
     "ename": "SyntaxError",
     "evalue": "invalid character '™' (U+2122) (3797109051.py, line 1)",
     "output_type": "error",
     "traceback": [
      "\u001b[0;36m  Cell \u001b[0;32mIn [16], line 1\u001b[0;36m\u001b[0m\n\u001b[0;31m    Welcome to KeySharer™ using that good old NIST Integer(192)-P\u001b[0m\n\u001b[0m                        ^\u001b[0m\n\u001b[0;31mSyntaxError\u001b[0m\u001b[0;31m:\u001b[0m invalid character '™' (U+2122)\n"
     ]
    }
   ],
   "source": [
    "bash: 2807111821753270235606952749555142290636243909870425884218: command not found...\n",
    "[eugenelau@fedora key-sharer]$ nc chall.polygl0ts.ch 9025\n",
    "Welcome to KeySharer™ using that good old NIST 192-P\n",
    "=============================================\n",
    "Alice wants to share her public key with you so that you both can have multiple shared secret keys !\n",
    "Alice's public key is (2230074218083237901624079227276268727577628510634699020425,2080137031454700487859373151534825252983621476743808171976)\n",
    "Now send over yours !\n",
    "\n",
    "Gimme your pub key's x : \n",
    "2807111821753270235606952749555142290636243909870425884218\n",
    "Gimme your pub key's y : \n",
    "1844630281417213967453319791679056021580609118298319303618\n",
    "The shared key is\n",
    " (2240697313826872723889778085330388921589243294999535489068,1052224903629993970284779711343568051353265579172283445644)\n",
    "Gimme your pub key's x : \n",
    "1521362811409649023155117926818594038554710541151944509982\n",
    "Gimme your pub key's y : \n",
    "5139835840888559120726224597204329955143025155951305015076\n",
    "The shared key is\n",
    " (1228015637516484564975993276770410580034968160058087543000,6166283703717522580698559397599408096300559499637125302681)\n",
    "Gimme your pub key's x : \n",
    "2973424016325249905511073300106934126855998367618429681300\n",
    "Gimme your pub key's y : \n",
    "2995816855245136400104350751531029697342991291545621614807\n",
    "The shared key is\n",
    " (1797573844304149256961909813501197460237546388043825401843,3177599663402244866916153146024133541384272561809106859539)\n",
    "Gimme your pub key's x : \n",
    "5496661980615164490588504558003381187721016101792754322524\n",
    "Gimme your pub key's y : \n",
    "3205869654254971744522332206255447147155280600991525420284\n",
    "The shared key is\n",
    " (1768748855691018876364169409317930220846102366474807688731,2481309930276743595455326773570701926731554231830000277680)"
   ]
  },
  {
   "cell_type": "code",
   "execution_count": 17,
   "id": "3542f4c2",
   "metadata": {},
   "outputs": [],
   "source": [
    "q1 = ec1(2240697313826872723889778085330388921589243294999535489068,1052224903629993970284779711343568051353265579172283445644)\n",
    "s1 = p1.discrete_log(q1)"
   ]
  },
  {
   "cell_type": "code",
   "execution_count": 18,
   "id": "40a5b4af",
   "metadata": {},
   "outputs": [],
   "source": [
    "q2 = ec2(1228015637516484564975993276770410580034968160058087543000,6166283703717522580698559397599408096300559499637125302681)\n",
    "s2 = p2.discrete_log(q2)"
   ]
  },
  {
   "cell_type": "code",
   "execution_count": 19,
   "id": "8eb2d579",
   "metadata": {},
   "outputs": [],
   "source": [
    "q3 = ec3(1797573844304149256961909813501197460237546388043825401843,3177599663402244866916153146024133541384272561809106859539)\n",
    "s3 = p3.discrete_log(q3)"
   ]
  },
  {
   "cell_type": "code",
   "execution_count": 20,
   "id": "7c8b25a6",
   "metadata": {},
   "outputs": [],
   "source": [
    "q4 = ec4(1768748855691018876364169409317930220846102366474807688731,2481309930276743595455326773570701926731554231830000277680)\n",
    "s4 = p4.discrete_log(q4)"
   ]
  },
  {
   "cell_type": "code",
   "execution_count": 21,
   "id": "8cd8c34c",
   "metadata": {},
   "outputs": [
    {
     "data": {
      "text/plain": [
       "1055597310073078993719278169019471150804657928577721354"
      ]
     },
     "execution_count": 21,
     "metadata": {},
     "output_type": "execute_result"
    }
   ],
   "source": [
    "base = crt([s1,s2,s3,s4], [p1.order(), p2.order(), p3.order(), p4.order()])\n",
    "base"
   ]
  },
  {
   "cell_type": "code",
   "execution_count": 24,
   "id": "1b345dcd",
   "metadata": {},
   "outputs": [
    {
     "name": "stdout",
     "output_type": "stream",
     "text": [
      "b'EPFL{th1s_1s_1nv4lid}'\n"
     ]
    }
   ],
   "source": [
    "from Crypto.Util.number import long_to_bytes\n",
    "public_key = ec0(2230074218083237901624079227276268727577628510634699020425,2080137031454700487859373151534825252983621476743808171976)\n",
    "incr = p1.order() * p2.order() * p3.order() * p4.order()\n",
    "candidate_PK = base\n",
    "while True:\n",
    "    decrypt_attempt = pow(candidate_PK, -1, ec0.order()) * public_key\n",
    "    decrypted_bytes = long_to_bytes(int(decrypt_attempt[0]))\n",
    "    if b\"EPFL\" in decrypted_bytes:\n",
    "        print(decrypted_bytes)\n",
    "    candidate_PK += incr\n",
    "    if candidate_PK >= p:\n",
    "        break"
   ]
  },
  {
   "cell_type": "code",
   "execution_count": 164,
   "id": "23c7be87",
   "metadata": {},
   "outputs": [
    {
     "data": {
      "text/plain": [
       "b'453f'"
      ]
     },
     "execution_count": 164,
     "metadata": {},
     "output_type": "execute_result"
    }
   ],
   "source": [
    "from Crypto.Util.number import bytes_to_long\n",
    "long_to_bytes(bytes_to_long(b\"453f\"))"
   ]
  }
 ],
 "metadata": {
  "kernelspec": {
   "display_name": "SageMath 9.6",
   "language": "sage",
   "name": "sagemath"
  },
  "language_info": {
   "codemirror_mode": {
    "name": "ipython",
    "version": 3
   },
   "file_extension": ".py",
   "mimetype": "text/x-python",
   "name": "python",
   "nbconvert_exporter": "python",
   "pygments_lexer": "ipython3",
   "version": "3.11.6"
  }
 },
 "nbformat": 4,
 "nbformat_minor": 5
}
