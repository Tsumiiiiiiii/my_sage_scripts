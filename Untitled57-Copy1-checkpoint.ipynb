{
 "cells": [
  {
   "cell_type": "code",
   "execution_count": 33,
   "metadata": {},
   "outputs": [],
   "source": [
    "from __future__ import annotations\n",
    "\n",
    "import base64\n",
    "import json\n",
    "import os\n",
    "\n",
    "from Crypto.Cipher import AES\n",
    "from Crypto.Hash import SHA512\n",
    "from Crypto.Protocol.KDF import PBKDF2\n",
    "from Crypto.Util.number import long_to_bytes\n",
    "\n",
    "\n",
    "MAX_STEPS = 5\n",
    "BASE_CURVE = 0\n",
    "\n",
    "SECRET_TEXT = b\"This is just a dummy-text with a gctf{DUMMY_FLAG} dummy flag\"\n",
    "\n",
    "# Many thanks to Lorenz Panny (https://yx7.cc/) for providing a \n",
    "# baseimplementation of CSIDH in sage :)\n",
    "\n",
    "\n",
    "class CSIDH:\n",
    "    def __init__(self, primes: list[int]) -> CSIDH:\n",
    "        self.primes = set(primes)\n",
    "        self.p = 4 * prod(self.primes) - 1\n",
    "        if not is_prime(self.p):\n",
    "            print(\"Error, p is not a prime\")\n",
    "            exit(1)\n",
    "\n",
    "        self.priv = [\n",
    "            randrange(-MAX_STEPS, MAX_STEPS + 1) for _ in range(len(self.primes))\n",
    "        ]\n",
    "\n",
    "    def montgomery_coefficient(self, E):\n",
    "        Ew = E.change_ring(GF(self.p)).short_weierstrass_model()\n",
    "        _, _, _, a, b = Ew.a_invariants()\n",
    "        R.<z> = GF(self.p)[]\n",
    "        r = (z**3 + a*z + b).roots(multiplicities=False)[0]\n",
    "        s = sqrt(3 * r**2 + a)\n",
    "        if not is_square(s): s = -s\n",
    "        A = 3 * r / s\n",
    "        assert CSIDH.montgomery_curve(A, self.p).change_ring(GF(self.p)).is_isomorphic(Ew)\n",
    "        return GF(self.p)(A)\n",
    "\n",
    "    def action(self, pub):\n",
    "        E = CSIDH.montgomery_curve(pub, self.p)\n",
    "        es = self.priv[:]\n",
    "\n",
    "        while any(es):\n",
    "            E._order = (self.p + 1)**2\n",
    "\n",
    "            P = E.lift_x(GF(self.p).random_element())\n",
    "            s = +1 if P.xy()[1] in GF(self.p) else -1\n",
    "            k = prod(l for l, e in zip(self.primes, es) if sign(e) == s)\n",
    "            P *= (self.p + 1) // k\n",
    "\n",
    "            for i, (l, e) in enumerate(zip(self.primes, es)):\n",
    "\n",
    "                if sign(e) != s: continue\n",
    "\n",
    "                Q = k // l * P\n",
    "                if not Q: continue\n",
    "                Q._order = l\n",
    "                phi = E.isogeny(Q)\n",
    "\n",
    "                E, P = phi.codomain(), phi(P)\n",
    "                es[i] -= s\n",
    "                k //= l\n",
    "\n",
    "        return self.montgomery_coefficient(E)\n",
    "\n",
    "    @staticmethod\n",
    "    def validate(A, primes):\n",
    "        p = 4 * prod(set(primes)) - 1\n",
    "\n",
    "        while True:\n",
    "            k = 1\n",
    "            P = CSIDH.montgomery_curve(A, p).lift_x(GF(p).random_element())\n",
    "            for l in set(primes):\n",
    "                Q = (p + 1) // l * P\n",
    "                if not Q: continue\n",
    "                if l * Q: return False\n",
    "                k *= l\n",
    "                if k > 4 * sqrt(p): return True\n",
    "    \n",
    "    @staticmethod\n",
    "    def montgomery_curve(A, p):\n",
    "        Fp2.<i> = GF(p**2, modulus = x**2 + 1)\n",
    "        return EllipticCurve(Fp2, [0, A, 0, 1, 0])\n"
   ]
  },
  {
   "cell_type": "code",
   "execution_count": 43,
   "metadata": {},
   "outputs": [
    {
     "name": "stdout",
     "output_type": "stream",
     "text": [
      "[55541, 55541, 55541, 55541, 55541, 55541, 55541, 55541, 55541, 55541, 55541, 55541, 55541, 55541, 55541, 55541, 55541, 55541, 55541, 55541, 55541, 55541, 55541, 55541, 55541, 55541, 55541, 55541, 55541, 55541, 55541, 55541, 55541, 55541, 55541, 55541, 55541, 55541, 55541, 55541, 55541, 55541, 55541, 55541, 55541, 55541, 55541, 55541, 55541, 55541, 55541, 55541, 55541, 55541, 55541, 55541, 55541, 55541, 55541, 55541, 55541, 55541, 55541, 55541, 55541, 55541, 55541, 55541, 55541, 55541, 55541, 55541, 55541, 55541, 55541]\n"
     ]
    },
    {
     "ename": "ValueError",
     "evalue": "the degree of the modulus does not equal the degree of the field",
     "output_type": "error",
     "traceback": [
      "\u001b[0;31m---------------------------------------------------------------------------\u001b[0m",
      "\u001b[0;31mValueError\u001b[0m                                Traceback (most recent call last)",
      "\u001b[0;32m<ipython-input-43-5cf211abd7fd>\u001b[0m in \u001b[0;36m<module>\u001b[0;34m\u001b[0m\n\u001b[1;32m      5\u001b[0m \u001b[0mprint\u001b[0m\u001b[0;34m(\u001b[0m\u001b[0mprimes_list\u001b[0m\u001b[0;34m)\u001b[0m\u001b[0;34m\u001b[0m\u001b[0;34m\u001b[0m\u001b[0m\n\u001b[1;32m      6\u001b[0m \u001b[0mcsidh\u001b[0m \u001b[0;34m=\u001b[0m \u001b[0mCSIDH\u001b[0m\u001b[0;34m(\u001b[0m\u001b[0mprimes_list\u001b[0m\u001b[0;34m)\u001b[0m\u001b[0;34m\u001b[0m\u001b[0;34m\u001b[0m\u001b[0m\n\u001b[0;32m----> 7\u001b[0;31m \u001b[0mcsidh\u001b[0m\u001b[0;34m.\u001b[0m\u001b[0maction\u001b[0m\u001b[0;34m(\u001b[0m\u001b[0mBASE_CURVE\u001b[0m\u001b[0;34m)\u001b[0m\u001b[0;34m\u001b[0m\u001b[0;34m\u001b[0m\u001b[0m\n\u001b[0m",
      "\u001b[0;32m<ipython-input-33-8fb4c94dc9e7>\u001b[0m in \u001b[0;36maction\u001b[0;34m(self, pub)\u001b[0m\n\u001b[1;32m     44\u001b[0m \u001b[0;34m\u001b[0m\u001b[0m\n\u001b[1;32m     45\u001b[0m     \u001b[0;32mdef\u001b[0m \u001b[0maction\u001b[0m\u001b[0;34m(\u001b[0m\u001b[0mself\u001b[0m\u001b[0;34m,\u001b[0m \u001b[0mpub\u001b[0m\u001b[0;34m)\u001b[0m\u001b[0;34m:\u001b[0m\u001b[0;34m\u001b[0m\u001b[0;34m\u001b[0m\u001b[0m\n\u001b[0;32m---> 46\u001b[0;31m         \u001b[0mE\u001b[0m \u001b[0;34m=\u001b[0m \u001b[0mCSIDH\u001b[0m\u001b[0;34m.\u001b[0m\u001b[0mmontgomery_curve\u001b[0m\u001b[0;34m(\u001b[0m\u001b[0mpub\u001b[0m\u001b[0;34m,\u001b[0m \u001b[0mself\u001b[0m\u001b[0;34m.\u001b[0m\u001b[0mp\u001b[0m\u001b[0;34m)\u001b[0m\u001b[0;34m\u001b[0m\u001b[0;34m\u001b[0m\u001b[0m\n\u001b[0m\u001b[1;32m     47\u001b[0m         \u001b[0mes\u001b[0m \u001b[0;34m=\u001b[0m \u001b[0mself\u001b[0m\u001b[0;34m.\u001b[0m\u001b[0mpriv\u001b[0m\u001b[0;34m[\u001b[0m\u001b[0;34m:\u001b[0m\u001b[0;34m]\u001b[0m\u001b[0;34m\u001b[0m\u001b[0;34m\u001b[0m\u001b[0m\n\u001b[1;32m     48\u001b[0m \u001b[0;34m\u001b[0m\u001b[0m\n",
      "\u001b[0;32m<ipython-input-33-8fb4c94dc9e7>\u001b[0m in \u001b[0;36mmontgomery_curve\u001b[0;34m(A, p)\u001b[0m\n\u001b[1;32m     86\u001b[0m     \u001b[0;34m@\u001b[0m\u001b[0mstaticmethod\u001b[0m\u001b[0;34m\u001b[0m\u001b[0;34m\u001b[0m\u001b[0m\n\u001b[1;32m     87\u001b[0m     \u001b[0;32mdef\u001b[0m \u001b[0mmontgomery_curve\u001b[0m\u001b[0;34m(\u001b[0m\u001b[0mA\u001b[0m\u001b[0;34m,\u001b[0m \u001b[0mp\u001b[0m\u001b[0;34m)\u001b[0m\u001b[0;34m:\u001b[0m\u001b[0;34m\u001b[0m\u001b[0;34m\u001b[0m\u001b[0m\n\u001b[0;32m---> 88\u001b[0;31m         \u001b[0mFp2\u001b[0m \u001b[0;34m=\u001b[0m \u001b[0mGF\u001b[0m\u001b[0;34m(\u001b[0m\u001b[0mp\u001b[0m\u001b[0;34m**\u001b[0m\u001b[0mInteger\u001b[0m\u001b[0;34m(\u001b[0m\u001b[0;36m2\u001b[0m\u001b[0;34m)\u001b[0m\u001b[0;34m,\u001b[0m \u001b[0mmodulus\u001b[0m \u001b[0;34m=\u001b[0m \u001b[0mx\u001b[0m\u001b[0;34m**\u001b[0m\u001b[0mInteger\u001b[0m\u001b[0;34m(\u001b[0m\u001b[0;36m2\u001b[0m\u001b[0;34m)\u001b[0m \u001b[0;34m+\u001b[0m \u001b[0mInteger\u001b[0m\u001b[0;34m(\u001b[0m\u001b[0;36m1\u001b[0m\u001b[0;34m)\u001b[0m\u001b[0;34m,\u001b[0m \u001b[0mnames\u001b[0m\u001b[0;34m=\u001b[0m\u001b[0;34m(\u001b[0m\u001b[0;34m'i'\u001b[0m\u001b[0;34m,\u001b[0m\u001b[0;34m)\u001b[0m\u001b[0;34m)\u001b[0m\u001b[0;34m;\u001b[0m \u001b[0;34m(\u001b[0m\u001b[0mi\u001b[0m\u001b[0;34m,\u001b[0m\u001b[0;34m)\u001b[0m \u001b[0;34m=\u001b[0m \u001b[0mFp2\u001b[0m\u001b[0;34m.\u001b[0m\u001b[0m_first_ngens\u001b[0m\u001b[0;34m(\u001b[0m\u001b[0;36m1\u001b[0m\u001b[0;34m)\u001b[0m\u001b[0;34m\u001b[0m\u001b[0;34m\u001b[0m\u001b[0m\n\u001b[0m\u001b[1;32m     89\u001b[0m         \u001b[0;32mreturn\u001b[0m \u001b[0mEllipticCurve\u001b[0m\u001b[0;34m(\u001b[0m\u001b[0mFp2\u001b[0m\u001b[0;34m,\u001b[0m \u001b[0;34m[\u001b[0m\u001b[0mInteger\u001b[0m\u001b[0;34m(\u001b[0m\u001b[0;36m0\u001b[0m\u001b[0;34m)\u001b[0m\u001b[0;34m,\u001b[0m \u001b[0mA\u001b[0m\u001b[0;34m,\u001b[0m \u001b[0mInteger\u001b[0m\u001b[0;34m(\u001b[0m\u001b[0;36m0\u001b[0m\u001b[0;34m)\u001b[0m\u001b[0;34m,\u001b[0m \u001b[0mInteger\u001b[0m\u001b[0;34m(\u001b[0m\u001b[0;36m1\u001b[0m\u001b[0;34m)\u001b[0m\u001b[0;34m,\u001b[0m \u001b[0mInteger\u001b[0m\u001b[0;34m(\u001b[0m\u001b[0;36m0\u001b[0m\u001b[0;34m)\u001b[0m\u001b[0;34m]\u001b[0m\u001b[0;34m)\u001b[0m\u001b[0;34m\u001b[0m\u001b[0;34m\u001b[0m\u001b[0m\n",
      "\u001b[0;32m/opt/sagemath-9.3/local/lib/python3.7/site-packages/sage/structure/factory.pyx\u001b[0m in \u001b[0;36msage.structure.factory.UniqueFactory.__call__ (build/cythonized/sage/structure/factory.c:2180)\u001b[0;34m()\u001b[0m\n\u001b[1;32m    365\u001b[0m             \u001b[0;32mFalse\u001b[0m\u001b[0;34m\u001b[0m\u001b[0;34m\u001b[0m\u001b[0m\n\u001b[1;32m    366\u001b[0m         \"\"\"\n\u001b[0;32m--> 367\u001b[0;31m         \u001b[0mkey\u001b[0m\u001b[0;34m,\u001b[0m \u001b[0mkwds\u001b[0m \u001b[0;34m=\u001b[0m \u001b[0mself\u001b[0m\u001b[0;34m.\u001b[0m\u001b[0mcreate_key_and_extra_args\u001b[0m\u001b[0;34m(\u001b[0m\u001b[0;34m*\u001b[0m\u001b[0margs\u001b[0m\u001b[0;34m,\u001b[0m \u001b[0;34m**\u001b[0m\u001b[0mkwds\u001b[0m\u001b[0;34m)\u001b[0m\u001b[0;34m\u001b[0m\u001b[0;34m\u001b[0m\u001b[0m\n\u001b[0m\u001b[1;32m    368\u001b[0m         \u001b[0mversion\u001b[0m \u001b[0;34m=\u001b[0m \u001b[0mself\u001b[0m\u001b[0;34m.\u001b[0m\u001b[0mget_version\u001b[0m\u001b[0;34m(\u001b[0m\u001b[0msage_version\u001b[0m\u001b[0;34m)\u001b[0m\u001b[0;34m\u001b[0m\u001b[0;34m\u001b[0m\u001b[0m\n\u001b[1;32m    369\u001b[0m         \u001b[0;32mreturn\u001b[0m \u001b[0mself\u001b[0m\u001b[0;34m.\u001b[0m\u001b[0mget_object\u001b[0m\u001b[0;34m(\u001b[0m\u001b[0mversion\u001b[0m\u001b[0;34m,\u001b[0m \u001b[0mkey\u001b[0m\u001b[0;34m,\u001b[0m \u001b[0mkwds\u001b[0m\u001b[0;34m)\u001b[0m\u001b[0;34m\u001b[0m\u001b[0;34m\u001b[0m\u001b[0m\n",
      "\u001b[0;32m/opt/sagemath-9.3/local/lib/python3.7/site-packages/sage/rings/finite_rings/finite_field_constructor.py\u001b[0m in \u001b[0;36mcreate_key_and_extra_args\u001b[0;34m(self, order, name, modulus, names, impl, proof, check_irreducible, prefix, repr, elem_cache, **kwds)\u001b[0m\n\u001b[1;32m    583\u001b[0m \u001b[0;34m\u001b[0m\u001b[0m\n\u001b[1;32m    584\u001b[0m                     \u001b[0;32mif\u001b[0m \u001b[0mmodulus\u001b[0m\u001b[0;34m.\u001b[0m\u001b[0mdegree\u001b[0m\u001b[0;34m(\u001b[0m\u001b[0;34m)\u001b[0m \u001b[0;34m!=\u001b[0m \u001b[0mn\u001b[0m\u001b[0;34m:\u001b[0m\u001b[0;34m\u001b[0m\u001b[0;34m\u001b[0m\u001b[0m\n\u001b[0;32m--> 585\u001b[0;31m                         \u001b[0;32mraise\u001b[0m \u001b[0mValueError\u001b[0m\u001b[0;34m(\u001b[0m\u001b[0;34m\"the degree of the modulus does not equal the degree of the field\"\u001b[0m\u001b[0;34m)\u001b[0m\u001b[0;34m\u001b[0m\u001b[0;34m\u001b[0m\u001b[0m\n\u001b[0m\u001b[1;32m    586\u001b[0m                     \u001b[0;32mif\u001b[0m \u001b[0mcheck_irreducible\u001b[0m \u001b[0;32mand\u001b[0m \u001b[0;32mnot\u001b[0m \u001b[0mmodulus\u001b[0m\u001b[0;34m.\u001b[0m\u001b[0mis_irreducible\u001b[0m\u001b[0;34m(\u001b[0m\u001b[0;34m)\u001b[0m\u001b[0;34m:\u001b[0m\u001b[0;34m\u001b[0m\u001b[0;34m\u001b[0m\u001b[0m\n\u001b[1;32m    587\u001b[0m                         \u001b[0;32mraise\u001b[0m \u001b[0mValueError\u001b[0m\u001b[0;34m(\u001b[0m\u001b[0;34m\"finite field modulus must be irreducible but it is not\"\u001b[0m\u001b[0;34m)\u001b[0m\u001b[0;34m\u001b[0m\u001b[0;34m\u001b[0m\u001b[0m\n",
      "\u001b[0;31mValueError\u001b[0m: the degree of the modulus does not equal the degree of the field"
     ]
    }
   ],
   "source": [
    "#p = 12959456557067361712384024746379793830601915837667680587668447897474899951780816971683771956821720947533009322245297643751451495017497326024669948837896093\n",
    "#p = 11116330492821741564211699431464181354023142964060118538243670238498029185233938989054823344817816785070863347254052409937707662219694461395013791528574897\n",
    "p = 55541\n",
    "primes_list = [p] * 75\n",
    "print(primes_list)\n",
    "csidh = CSIDH(primes_list)\n",
    "csidh.action(BASE_CURVE)"
   ]
  },
  {
   "cell_type": "code",
   "execution_count": 2,
   "metadata": {},
   "outputs": [],
   "source": [
    "primes_list = [3, 5, 7, 11, 13, 17, 19, 23, 29, 31, 37, 41, 43, 47, 53, 59, 61, 67, 71, 73, 79, 83, 89, 97, 101, 103, 107, 109, 113, 127, 131, 137, 139, 149, 151, 157, 163, 167, 173, 179, 181, 191, 193, 197, 199, 211, 223, 227, 229, 233, 239, 241, 251, 257, 263, 269, 271, 277, 281, 283, 293, 307, 311, 313, 317, 331, 337, 347, 349, 353, 359, 367, 373, 587]\n",
    "\n",
    "csidh = CSIDH(primes_list)\n",
    "bobs_resulting_curve = 3598894395515401842313465584971980800039377895742359654348981859659353336111199051823284318292160975526136148376327469429183227738632638406660792580155527\n",
    "\n",
    "derived_secret = csidh.action(bobs_resulting_curve)\n",
    "\n",
    "aes_secret_key = PBKDF2(\n",
    "    long_to_bytes(int(derived_secret)),\n",
    "    b\"secret_salt\",\n",
    "    count=1000000,\n",
    "    hmac_hash_module=SHA512\n",
    ")\n",
    "\n",
    "cipher = AES.new(aes_secret_key, AES.MODE_GCM)"
   ]
  },
  {
   "cell_type": "code",
   "execution_count": 4,
   "metadata": {},
   "outputs": [
    {
     "ename": "ValueError",
     "evalue": "MAC check failed",
     "output_type": "error",
     "traceback": [
      "\u001b[0;31m---------------------------------------------------------------------------\u001b[0m",
      "\u001b[0;31mValueError\u001b[0m                                Traceback (most recent call last)",
      "\u001b[0;32m<ipython-input-4-6f78e324c335>\u001b[0m in \u001b[0;36m<module>\u001b[0;34m\u001b[0m\n\u001b[1;32m      9\u001b[0m plaintext = cipher2.decrypt_and_verify(\n\u001b[1;32m     10\u001b[0m     \u001b[0mbase64\u001b[0m\u001b[0;34m.\u001b[0m\u001b[0mb64decode\u001b[0m\u001b[0;34m(\u001b[0m\u001b[0mresult\u001b[0m\u001b[0;34m[\u001b[0m\u001b[0;34m'CT'\u001b[0m\u001b[0;34m]\u001b[0m\u001b[0;34m)\u001b[0m\u001b[0;34m,\u001b[0m\u001b[0;34m\u001b[0m\u001b[0;34m\u001b[0m\u001b[0m\n\u001b[0;32m---> 11\u001b[0;31m     \u001b[0mbase64\u001b[0m\u001b[0;34m.\u001b[0m\u001b[0mb64decode\u001b[0m\u001b[0;34m(\u001b[0m\u001b[0mresult\u001b[0m\u001b[0;34m[\u001b[0m\u001b[0;34m'Tag'\u001b[0m\u001b[0;34m]\u001b[0m\u001b[0;34m)\u001b[0m\u001b[0;34m,\u001b[0m\u001b[0;34m\u001b[0m\u001b[0;34m\u001b[0m\u001b[0m\n\u001b[0m\u001b[1;32m     12\u001b[0m )\n\u001b[1;32m     13\u001b[0m \u001b[0mplaintext\u001b[0m\u001b[0;34m\u001b[0m\u001b[0;34m\u001b[0m\u001b[0m\n",
      "\u001b[0;32m/opt/sagemath-9.3/local/lib/python3.7/site-packages/Crypto/Cipher/_mode_gcm.py\u001b[0m in \u001b[0;36mdecrypt_and_verify\u001b[0;34m(self, ciphertext, received_mac_tag, output)\u001b[0m\n\u001b[1;32m    565\u001b[0m \u001b[0;34m\u001b[0m\u001b[0m\n\u001b[1;32m    566\u001b[0m         \u001b[0mplaintext\u001b[0m \u001b[0;34m=\u001b[0m \u001b[0mself\u001b[0m\u001b[0;34m.\u001b[0m\u001b[0mdecrypt\u001b[0m\u001b[0;34m(\u001b[0m\u001b[0mciphertext\u001b[0m\u001b[0;34m,\u001b[0m \u001b[0moutput\u001b[0m\u001b[0;34m=\u001b[0m\u001b[0moutput\u001b[0m\u001b[0;34m)\u001b[0m\u001b[0;34m\u001b[0m\u001b[0;34m\u001b[0m\u001b[0m\n\u001b[0;32m--> 567\u001b[0;31m         \u001b[0mself\u001b[0m\u001b[0;34m.\u001b[0m\u001b[0mverify\u001b[0m\u001b[0;34m(\u001b[0m\u001b[0mreceived_mac_tag\u001b[0m\u001b[0;34m)\u001b[0m\u001b[0;34m\u001b[0m\u001b[0;34m\u001b[0m\u001b[0m\n\u001b[0m\u001b[1;32m    568\u001b[0m         \u001b[0;32mreturn\u001b[0m \u001b[0mplaintext\u001b[0m\u001b[0;34m\u001b[0m\u001b[0;34m\u001b[0m\u001b[0m\n\u001b[1;32m    569\u001b[0m \u001b[0;34m\u001b[0m\u001b[0m\n",
      "\u001b[0;32m/opt/sagemath-9.3/local/lib/python3.7/site-packages/Crypto/Cipher/_mode_gcm.py\u001b[0m in \u001b[0;36mverify\u001b[0;34m(self, received_mac_tag)\u001b[0m\n\u001b[1;32m    506\u001b[0m \u001b[0;34m\u001b[0m\u001b[0m\n\u001b[1;32m    507\u001b[0m         \u001b[0;32mif\u001b[0m \u001b[0mmac1\u001b[0m\u001b[0;34m.\u001b[0m\u001b[0mdigest\u001b[0m\u001b[0;34m(\u001b[0m\u001b[0;34m)\u001b[0m \u001b[0;34m!=\u001b[0m \u001b[0mmac2\u001b[0m\u001b[0;34m.\u001b[0m\u001b[0mdigest\u001b[0m\u001b[0;34m(\u001b[0m\u001b[0;34m)\u001b[0m\u001b[0;34m:\u001b[0m\u001b[0;34m\u001b[0m\u001b[0;34m\u001b[0m\u001b[0m\n\u001b[0;32m--> 508\u001b[0;31m             \u001b[0;32mraise\u001b[0m \u001b[0mValueError\u001b[0m\u001b[0;34m(\u001b[0m\u001b[0;34m\"MAC check failed\"\u001b[0m\u001b[0;34m)\u001b[0m\u001b[0;34m\u001b[0m\u001b[0;34m\u001b[0m\u001b[0m\n\u001b[0m\u001b[1;32m    509\u001b[0m \u001b[0;34m\u001b[0m\u001b[0m\n\u001b[1;32m    510\u001b[0m     \u001b[0;32mdef\u001b[0m \u001b[0mhexverify\u001b[0m\u001b[0;34m(\u001b[0m\u001b[0mself\u001b[0m\u001b[0;34m,\u001b[0m \u001b[0mhex_mac_tag\u001b[0m\u001b[0;34m)\u001b[0m\u001b[0;34m:\u001b[0m\u001b[0;34m\u001b[0m\u001b[0;34m\u001b[0m\u001b[0m\n",
      "\u001b[0;31mValueError\u001b[0m: MAC check failed"
     ]
    }
   ],
   "source": [
    "result = {\"Nonce\": \"L5KGxwFntei7GU3GQYNgZg==\", \"CT\": \"tPZCIpISvJb3gK4jSLC5JWJLi+zJ2/9dEAfCfqnx+I3lwRZ3YgixjmICrRzMvgBgAT8BKU6oZ8APu5Iy19tmT5fpNDusFpTUj65C+9q7Z660jfyPbeFx7zBornwpaMVpvZxwsao3vpVsGHe/wx1GaldFRwje98fYQv+aSFk+9l0fmaAofWeNYv3+EE3Gbv2wkBJblL/lAHl0dgHTaq194+dsdB8ony2B6NiXq3Z+5bXR3j76e+ol2TZ39Uhrr56nqhu5qk2JPqmR1k68Ow==\", \"Tag\": \"Tg2MsWS60WmE4DV5CwiPYQ==\"}\n",
    "\n",
    "\n",
    "cipher2 = AES.new(\n",
    "    aes_secret_key,\n",
    "    AES.MODE_GCM,\n",
    "    nonce=base64.b64decode(result['Nonce'])\n",
    ")\n",
    "plaintext = cipher2.decrypt_and_verify(\n",
    "    base64.b64decode(result['CT']),\n",
    "    base64.b64decode(result['Tag']),\n",
    ")\n",
    "plaintext"
   ]
  },
  {
   "cell_type": "code",
   "execution_count": 1,
   "metadata": {},
   "outputs": [
    {
     "name": "stdout",
     "output_type": "stream",
     "text": [
      "2 87\n",
      "3 95\n"
     ]
    }
   ],
   "source": [
    "for i in [2, 3, 5, 7, 11, 13]:\n",
    "    for pw in range(75, 100):\n",
    "        p = 4 * pow(i, pw) - 1\n",
    "        if is_prime(p):\n",
    "            print(i, pw)"
   ]
  },
  {
   "cell_type": "code",
   "execution_count": 4,
   "metadata": {},
   "outputs": [
    {
     "data": {
      "text/plain": [
       "[2,\n",
       " 2,\n",
       " 2,\n",
       " 2,\n",
       " 2,\n",
       " 2,\n",
       " 2,\n",
       " 2,\n",
       " 2,\n",
       " 2,\n",
       " 2,\n",
       " 2,\n",
       " 2,\n",
       " 2,\n",
       " 2,\n",
       " 2,\n",
       " 2,\n",
       " 2,\n",
       " 2,\n",
       " 2,\n",
       " 2,\n",
       " 2,\n",
       " 2,\n",
       " 2,\n",
       " 2,\n",
       " 2,\n",
       " 2,\n",
       " 2,\n",
       " 2,\n",
       " 2,\n",
       " 2,\n",
       " 2,\n",
       " 2,\n",
       " 2,\n",
       " 2,\n",
       " 2,\n",
       " 2,\n",
       " 2,\n",
       " 2,\n",
       " 2,\n",
       " 2,\n",
       " 2,\n",
       " 2,\n",
       " 2,\n",
       " 2,\n",
       " 2,\n",
       " 2,\n",
       " 2,\n",
       " 2,\n",
       " 2,\n",
       " 2,\n",
       " 2,\n",
       " 2,\n",
       " 2,\n",
       " 2,\n",
       " 2,\n",
       " 2,\n",
       " 2,\n",
       " 2,\n",
       " 2,\n",
       " 2,\n",
       " 2,\n",
       " 2,\n",
       " 2,\n",
       " 2,\n",
       " 2,\n",
       " 2,\n",
       " 2,\n",
       " 2,\n",
       " 2,\n",
       " 2,\n",
       " 2,\n",
       " 2,\n",
       " 2,\n",
       " 2,\n",
       " 2,\n",
       " 2,\n",
       " 2,\n",
       " 2,\n",
       " 2,\n",
       " 2,\n",
       " 2,\n",
       " 2,\n",
       " 2,\n",
       " 2,\n",
       " 2,\n",
       " 2]"
      ]
     },
     "execution_count": 4,
     "metadata": {},
     "output_type": "execute_result"
    }
   ],
   "source": [
    "MAX_STEPS = 5\n",
    "def read_bobs_primes(primes_strs):\n",
    "\n",
    "    primes = []\n",
    "    security_level = 1\n",
    "    for prime_str in primes_strs:\n",
    "        try:\n",
    "            prime_int = int(prime_str.strip())\n",
    "            # we need to make sure that the securitylevel is met\n",
    "            if not is_prime(prime_int):\n",
    "                print(f\"Bob, {prime_int} is not a prime.\")\n",
    "                print(\"Stop trolling, I seriously need your attention\")\n",
    "                print(\"Message me if you are done with trolling\")\n",
    "                exit(-1)\n",
    "            security_level *= (2 * MAX_STEPS + 1)\n",
    "            primes.append(prime_int)\n",
    "        except ValueError:\n",
    "            print(f\"Bob, {prime_str} does not look like an integer to me\")\n",
    "            print(\"Please avoid trolling me, I'll no longer talk to you!\")\n",
    "            exit(-2)\n",
    "\n",
    "    if security_level < 0xff00000000000000000000000000000000000000000000000000000000000000:\n",
    "        print(\"Bob, please read the specification!\")\n",
    "        print(\"The security level is not met, Eve will be able to listen!\")\n",
    "        exit(-3)\n",
    "\n",
    "    return primes\n",
    "\n",
    "read_bobs_primes(['2'] * 87)"
   ]
  },
  {
   "cell_type": "code",
   "execution_count": 32,
   "metadata": {},
   "outputs": [
    {
     "name": "stdout",
     "output_type": "stream",
     "text": [
      "[3, 3, 3, 3, 3, 3, 3, 3, 3, 3, 3, 3, 3, 3, 3, 3, 3, 3, 3, 3, 3, 3, 3, 3, 3, 3, 3, 3, 3, 3, 3, 3, 3, 3, 3, 3, 3, 3, 3, 3, 3, 3, 3, 3, 3, 3, 3, 3, 3, 3, 3, 3, 3, 3, 3, 3, 3, 3, 3, 3, 3, 3, 3, 3, 3, 3, 3, 3, 3, 3, 3, 3, 3, 3, 3, 3, 3, 3, 3, 3, 3, 3, 3, 3, 3, 3, 3, 3, 3, 3, 3, 3, 3, 3, 3]\n"
     ]
    }
   ],
   "source": [
    "print([3] * 95)"
   ]
  },
  {
   "cell_type": "code",
   "execution_count": 42,
   "metadata": {},
   "outputs": [
    {
     "name": "stderr",
     "output_type": "stream",
     "text": [
      " 18%|█▊        | 183/1000 [00:00<00:00, 946.13it/s]"
     ]
    },
    {
     "name": "stdout",
     "output_type": "stream",
     "text": [
      "55541\n",
      "53267\n",
      "50111\n",
      "49523\n",
      "34313\n",
      "61211\n",
      "61001\n",
      "58013\n",
      "63311\n",
      "43853\n",
      "37871\n",
      "41333\n",
      "41507\n",
      "39953\n",
      "45137\n",
      "61211\n",
      "57527\n",
      "39953\n",
      "40751\n",
      "48947\n",
      "42953\n",
      "64601\n",
      "54251\n",
      "55457"
     ]
    },
    {
     "name": "stderr",
     "output_type": "stream",
     "text": [
      " 48%|████▊     | 475/1000 [00:00<00:00, 952.07it/s]"
     ]
    },
    {
     "name": "stdout",
     "output_type": "stream",
     "text": [
      "\n",
      "50033\n",
      "53381\n",
      "47807\n",
      "62801\n",
      "42131\n",
      "46997\n",
      "43691\n",
      "36947\n",
      "40751\n",
      "43481\n",
      "37223\n",
      "64781\n",
      "53267\n",
      "33071\n",
      "38933\n",
      "64781\n",
      "64553\n",
      "42131\n",
      "51407\n"
     ]
    },
    {
     "name": "stderr",
     "output_type": "stream",
     "text": [
      " 69%|██████▉   | 689/1000 [00:00<00:00, 1014.33it/s]"
     ]
    },
    {
     "name": "stdout",
     "output_type": "stream",
     "text": [
      "61283\n",
      "50891\n",
      "51797\n",
      "42953\n",
      "41681\n",
      "55661\n",
      "50753\n",
      "38861\n",
      "49871\n",
      "40841\n",
      "48857\n",
      "44453\n",
      "47381\n",
      "59333\n",
      "63377\n",
      "36947\n",
      "59333\n",
      "63521\n",
      "35171\n",
      "37181\n",
      "53693\n",
      "46691\n",
      "60413\n",
      "36821\n",
      "51563\n",
      "56843\n",
      "32843\n",
      "55763\n",
      "63761\n",
      "32987\n",
      "56957\n",
      "65381"
     ]
    },
    {
     "name": "stderr",
     "output_type": "stream",
     "text": [
      " 89%|████████▉ | 890/1000 [00:00<00:00, 953.67it/s] "
     ]
    },
    {
     "name": "stdout",
     "output_type": "stream",
     "text": [
      "\n",
      "61151\n",
      "36887\n",
      "58727\n",
      "47123\n",
      "51407\n",
      "59141\n",
      "49193\n",
      "47381\n",
      "34607\n",
      "62903\n",
      "63311\n",
      "43991\n",
      "37253\n",
      "62171\n",
      "37217\n",
      "33191\n",
      "33083\n",
      "62207\n",
      "44273\n",
      "40787\n",
      "41681\n",
      "53171\n",
      "37217\n",
      "35111\n",
      "37217\n",
      "53717\n",
      "55073\n",
      "59333"
     ]
    },
    {
     "name": "stderr",
     "output_type": "stream",
     "text": [
      "100%|██████████| 1000/1000 [00:01<00:00, 879.52it/s]"
     ]
    },
    {
     "name": "stdout",
     "output_type": "stream",
     "text": [
      "\n",
      "37253\n",
      "59141\n",
      "33851\n",
      "41177\n",
      "34361\n"
     ]
    },
    {
     "name": "stderr",
     "output_type": "stream",
     "text": [
      "\n"
     ]
    }
   ],
   "source": [
    "from Crypto.Util.number import getPrime\n",
    "from tqdm import tqdm\n",
    "\n",
    "for _ in tqdm(range(1000)):\n",
    "    x = getPrime(16)\n",
    "    if is_prime(4*x - 1):\n",
    "        print(x)"
   ]
  },
  {
   "cell_type": "code",
   "execution_count": null,
   "metadata": {},
   "outputs": [],
   "source": []
  }
 ],
 "metadata": {
  "kernelspec": {
   "display_name": "SageMath 9.3",
   "language": "sage",
   "name": "sagemath"
  },
  "language_info": {
   "codemirror_mode": {
    "name": "ipython",
    "version": 3
   },
   "file_extension": ".py",
   "mimetype": "text/x-python",
   "name": "python",
   "nbconvert_exporter": "python",
   "pygments_lexer": "ipython3",
   "version": "3.7.10"
  }
 },
 "nbformat": 4,
 "nbformat_minor": 4
}
