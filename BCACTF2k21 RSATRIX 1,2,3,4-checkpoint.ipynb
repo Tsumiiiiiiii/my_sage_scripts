{
 "cells": [
  {
   "cell_type": "code",
   "execution_count": 3,
   "metadata": {},
   "outputs": [
    {
     "name": "stdout",
     "output_type": "stream",
     "text": [
      "START\n",
      "END\n"
     ]
    }
   ],
   "source": [
    "from Crypto.Util.number import isPrime, getRandomNBitInteger, bytes_to_long\n",
    "\n",
    "def getSpecialPrime(n, k):\n",
    "    while True:\n",
    "        x = getRandomNBitInteger(n)\n",
    "        p = x**k + 1\n",
    "        if isPrime(p):\n",
    "            return p\n",
    "            \n",
    "print('START')\n",
    "p = getSpecialPrime(64, 2)\n",
    "q = getSpecialPrime(64, 2)\n",
    "\n",
    "n = p * q\n",
    "print('END')"
   ]
  },
  {
   "cell_type": "code",
   "execution_count": 6,
   "metadata": {},
   "outputs": [
    {
     "name": "stdout",
     "output_type": "stream",
     "text": [
      "LOLLL\n"
     ]
    },
    {
     "data": {
      "text/plain": [
       "(132036094009205666145359625374564089856,\n",
       " 132036091033941527755959619202484011008)"
      ]
     },
     "execution_count": 6,
     "metadata": {},
     "output_type": "execute_result"
    }
   ],
   "source": [
    "def factorise(n):\n",
    "\tx = math.ceil(math.sqrt(n))\n",
    "\ty = x**2 - n\n",
    "\twhile not math.sqrt(y).is_integer():\n",
    "\t\tx += 1\n",
    "\t\ty = x**2 - n\n",
    "\treturn x + math.sqrt(y), x - math.sqrt(y)\n",
    "    \n",
    "print('LOLLL')\n",
    "p, q = factorise(n)\n",
    "p = int(p)\n",
    "q = int(q)\n",
    "p, q"
   ]
  },
  {
   "cell_type": "code",
   "execution_count": null,
   "metadata": {},
   "outputs": [],
   "source": []
  },
  {
   "cell_type": "code",
   "execution_count": null,
   "metadata": {},
   "outputs": [],
   "source": []
  }
 ],
 "metadata": {
  "kernelspec": {
   "display_name": "SageMath 9.3",
   "language": "sage",
   "name": "sagemath"
  }
 },
 "nbformat": 4,
 "nbformat_minor": 4
}
