{
 "cells": [
  {
   "cell_type": "code",
   "execution_count": 9,
   "id": "79b16c17",
   "metadata": {},
   "outputs": [
    {
     "name": "stdout",
     "output_type": "stream",
     "text": [
      "Multivariate Polynomial Ring in x, d over Finite Field of size 77897050769654696452572824710099972349639759246855689360228775736949644730457\n"
     ]
    }
   ],
   "source": [
    "from random import randint\n",
    "from Crypto.Util.number import inverse, bytes_to_long\n",
    "from Crypto.Util.Padding import pad\n",
    "from Crypto.Cipher import AES\n",
    "from hashlib import sha256\n",
    "import os\n",
    "\n",
    "q = 77897050769654696452572824710099972349639759246855689360228775736949644730457\n",
    "p = 16158503035655503650357438344334975980222051334857742016065172713762327569433945446598600705761456731844358980460949009747059779575245460547544076193224141560315438683650498045875098875194826053398028819192033784138396109321309878080919047169238085235290822926018152521443787945770532904303776199561965192760957166694834171210342487393282284747428088017663161029038902829665513096354230157075129296432088558362971801859230928678799175576150822952201848806616643615613562842355410104862578550863465661734839271290328348967522998634183738667876030053003528149973545862146652611656961993385485831857222177076627368030677\n",
    "g = 8986665761954289500303442250714013257267958541522625625218561169199279419042595142610100040988087502082590727136475698540201993746428470373168993292913039320311763660217801850784878564935450880018874371587199649965685742134884651107493812479234148805689664214460255588413695390568080942032263992785493208738282307168575867379095610792294961396770216272833435684440954774251862518243249608047971545524864083813237641522093309769070100469565960964654622352499351408269623653746705149014123772757153278180752939277436109738789404154406479625797746665884100327134640664657032784940498017583213619767216652249367376800156\n",
    "\n",
    "quotes = []\n",
    "\n",
    "with open(\"quotes.txt\") as f:\n",
    "    for quote in f:\n",
    "        quote = quote.strip().encode()\n",
    "        quotes.append(quote)\n",
    "\n",
    "Zq = GF(q)\n",
    "#PR = Zq[','.join([f'c{i}' for i in range(16)] + [f'k{i}' for i in range(len(quotes))])]\n",
    "#PR = Zq[','.join([f'c{i}' for i in range(16)] + ['d'])]\n",
    "#print(PR)\n",
    "#varr = PR.gens()\n",
    "#cs = varr[:16]\n",
    "#k0 = varr[-2]\n",
    "#d = varr[-1]\n",
    "PR.<x, d> = PolynomialRing(Zq)\n",
    "#PR.<d> = PolynomialRing(Zq)\n",
    "print(PR)\n",
    "\n",
    "def hsh(msg):\n",
    "    return bytes_to_long(sha256(msg).digest())\n",
    "\n",
    "def poly(x):\n",
    "    return sum(coeff * (x**i) for i,coeff in enumerate(cs))\n",
    "\n",
    "quote_sigs = [(18538567231722685945797090783936295118823595361506914721726634489965878792092, 9534500652632125634641876250092080183022575098656254339710484313801309472341), (40044335674682415732639880026587948909196723753135121574060780874843579410557, 76755192691649792821295616424843334044612875347700299959188607327429110569741), (2354723963412226581169794277209672044088677508387496233761833060810264808231, 5551814301579042319401049594982676781614581827314369121943697647500899474585), (14093923028246393297069042751983458176109781481046947646639026276847250726706, 5966017748063940832254730003836052881852251005352472060682280217053032195300), (4014765488361029504603813500011952364985952600385248394691633390934121671638, 43702163923447954902581376740902009790945099624966271668886069327224057509197), (33320362558911096263218285582752153454035706900512140217061134612279280605530, 55621822855942828900530370711412325355228953261548439732516443961531185672785), (25160615972298537371673601850415528212191506841772438416323832922823918992227, 47838286666519542737986196417534649038701562822516156929692625820411124736822), (67721441286907686310143244051075422954425087819878628785916761447408774584610, 67982686215688928646989388928814155324855633145598362679304573976166564738098), (24661179247566534781699006791985721659287829094731174001544218540965635242424, 41011417955752087480149446286867692645860955541134878271531648518816810638373), (47825677733740373715626546697162261646224585180632889561648544717783870069773, 47397061912116791076055610725360612986492233424852629013617141397873508135961), (56214875726675855773849633789547793285928866507786116870553159594456424132929, 73787143038855400899435998884004416911690611257527586287850912648034316749374), (66090293157110548354823579640523712717496617810652122101402179294476896865163, 26048601001607455761235719651296992553246571102644863095804242708580979881608), (46910704853715119271638553031970231889568517262792480450420926279068345986271, 39543512796296412664033164341732081379003276801490586137252212511203868006554), (43034089872458231114272691108307410824083767874322135932939953165817406850602, 70889206719142775720065482040705094267113253214859027608980507917778769957802), (49709542769456331944923513326975032411263533977242095848438289028572643203475, 14819725718698091260168544912180055472396277986076910924440970372186252693523), (17764504015651672846684285092864690099217722428895504734442699959347212362037, 30779217842704892252035433779617527921162461631960501087609900998923135679130), (21272382615812322008384551095993338983724664215044648211287586348066520680680, 76234915224008564080339245480384629164844938101293210735761572964852490657975), (44328884017702092473987937364445697471806015364781147510625199931394522728808, 33906721853286250970929437613890497457945785213637484981974847684609039591314)]\n",
    "enc = bytes.fromhex(\"5c9d830f422288b4a9a37dc6b1cf68bfb7ee1acadb428d9fee6b17a8b8cbc5e7d871314bf090e4faa083d68162414b72992a60119ceb9c67f928d224f44f14c5\")\n",
    "IV = bytes.fromhex(\"bf549fa30bef66988268f357e1014c8d\")"
   ]
  },
  {
   "cell_type": "code",
   "execution_count": 10,
   "id": "f034722d",
   "metadata": {},
   "outputs": [
    {
     "name": "stdout",
     "output_type": "stream",
     "text": [
      "[(49185760977734735866193605319494678530285282630921426167203898973537697571401, 1)]\n"
     ]
    }
   ],
   "source": [
    "li_numers = []\n",
    "li_denoms = []\n",
    "kis = []\n",
    "NUM_PTS = 17\n",
    "\n",
    "for i in range(18):\n",
    "    # f(ki) = k_i + 1\n",
    "    ki = (hsh(quotes[i]) + d*quote_sigs[i][0]) / quote_sigs[i][1]\n",
    "    kis.append(ki)\n",
    "\n",
    "xis = kis[:17]\n",
    "yis = kis[1:]\n",
    "\n",
    "Ljs = []\n",
    "for j in range(NUM_PTS):\n",
    "    li_numer = prod([(x - xis[m]) for m in range(NUM_PTS) if m != j])\n",
    "    li_denom = prod([(xis[j] - xis[m]) for m in range(NUM_PTS) if m != j])\n",
    "    \n",
    "    Ljs.append(li_numer / li_denom)\n",
    "\n",
    "#li_numers = [poly.change_ring(QQ) for poly in li_numers]\n",
    "#li_denoms = [poly.change_ring(QQ) for poly in li_denoms]\n",
    "\n",
    "#Ljs = [li_numers[i] / li_denoms[i] for i in range(len(li_numers))]\n",
    "# y_i = k_i + 1\n",
    "#L = sum(Ljs[i - 1]*kis[i].change_ring(QQ) for i in range(1, 18))\n",
    "L = sum(Ljs[i]*yis[i] for i in range(NUM_PTS))\n",
    "#print(L)\n",
    "#print(L.numerator().change_ring(Zq) % L.denominator().change_ring(Zq))\n",
    "#print(lcm(li_denoms))\n",
    "    \n",
    "print(L.numerator().coefficient(x^16).univariate_polynomial().roots())\n",
    "#print()\n",
    "#print(L.numerator().coefficient({x : 17}))"
   ]
  },
  {
   "cell_type": "code",
   "execution_count": 11,
   "id": "7a552c09",
   "metadata": {},
   "outputs": [
    {
     "name": "stdout",
     "output_type": "stream",
     "text": [
      "b'corctf{wh4t_d0_y0u_m34n_1_C4Nt_jU5t_4dd_m0re_c03FFs?!??!?!????}\\x01'\n"
     ]
    }
   ],
   "source": [
    "from Crypto.Util.Padding import unpad\n",
    "\n",
    "xxx = 49185760977734735866193605319494678530285282630921426167203898973537697571401\n",
    "key = sha256(str(xxx).encode()).digest()\n",
    "cipher = AES.new(key, AES.MODE_CBC, IV)\n",
    "print(cipher.decrypt(enc))"
   ]
  },
  {
   "cell_type": "code",
   "execution_count": 2,
   "id": "975a347b",
   "metadata": {},
   "outputs": [
    {
     "name": "stdout",
     "output_type": "stream",
     "text": [
      "Singular crashed -- automatically restarting.\n"
     ]
    },
    {
     "ename": "SingularError",
     "evalue": "Singular error:\n   ? unknown option `set`\n   ? unknown option `sage7`\n   ? error occurred in or before STDIN line 12: `option(set,sage7);`",
     "output_type": "error",
     "traceback": [
      "\u001b[0;31m---------------------------------------------------------------------------\u001b[0m",
      "\u001b[0;31mKeyError\u001b[0m                                  Traceback (most recent call last)",
      "File \u001b[0;32m~/sage/local/var/lib/sage/venv-python3.10.5/lib/python3.10/site-packages/sage/misc/cachefunc.pyx:1932\u001b[0m, in \u001b[0;36msage.misc.cachefunc.CachedMethodCaller.__call__ (build/cythonized/sage/misc/cachefunc.c:10139)\u001b[0;34m()\u001b[0m\n\u001b[1;32m   1931\u001b[0m try:\n\u001b[0;32m-> 1932\u001b[0m     return cache[k]\n\u001b[1;32m   1933\u001b[0m except TypeError:  # k is not hashable\n",
      "\u001b[0;31mKeyError\u001b[0m: (('', None, None, False), ())",
      "\nDuring handling of the above exception, another exception occurred:\n",
      "\u001b[0;31mTypeError\u001b[0m                                 Traceback (most recent call last)",
      "File \u001b[0;32m~/sage/local/var/lib/sage/venv-python3.10.5/lib/python3.10/site-packages/sage/rings/polynomial/multi_polynomial_ideal.py:4351\u001b[0m, in \u001b[0;36mMPolynomialIdeal.groebner_basis\u001b[0;34m(self, algorithm, deg_bound, mult_bound, prot, *args, **kwds)\u001b[0m\n\u001b[1;32m   4350\u001b[0m \u001b[38;5;28;01mtry\u001b[39;00m:\n\u001b[0;32m-> 4351\u001b[0m     gb \u001b[38;5;241m=\u001b[39m \u001b[38;5;28;43mself\u001b[39;49m\u001b[38;5;241;43m.\u001b[39;49m\u001b[43m_groebner_basis_libsingular\u001b[49m\u001b[43m(\u001b[49m\u001b[38;5;124;43m\"\u001b[39;49m\u001b[38;5;124;43mgroebner\u001b[39;49m\u001b[38;5;124;43m\"\u001b[39;49m\u001b[43m,\u001b[49m\u001b[43m \u001b[49m\u001b[43mdeg_bound\u001b[49m\u001b[38;5;241;43m=\u001b[39;49m\u001b[43mdeg_bound\u001b[49m\u001b[43m,\u001b[49m\u001b[43m \u001b[49m\u001b[43mmult_bound\u001b[49m\u001b[38;5;241;43m=\u001b[39;49m\u001b[43mmult_bound\u001b[49m\u001b[43m,\u001b[49m\u001b[43m \u001b[49m\u001b[38;5;241;43m*\u001b[39;49m\u001b[43margs\u001b[49m\u001b[43m,\u001b[49m\u001b[43m \u001b[49m\u001b[38;5;241;43m*\u001b[39;49m\u001b[38;5;241;43m*\u001b[39;49m\u001b[43mkwds\u001b[49m\u001b[43m)\u001b[49m\n\u001b[1;32m   4352\u001b[0m \u001b[38;5;28;01mexcept\u001b[39;00m (\u001b[38;5;167;01mTypeError\u001b[39;00m, \u001b[38;5;167;01mNameError\u001b[39;00m): \u001b[38;5;66;03m# conversion to Singular not supported\u001b[39;00m\n",
      "File \u001b[0;32m~/sage/local/var/lib/sage/venv-python3.10.5/lib/python3.10/site-packages/sage/libs/singular/standard_options.py:142\u001b[0m, in \u001b[0;36mlibsingular_gb_standard_options.<locals>.wrapper\u001b[0;34m(*args, **kwds)\u001b[0m\n\u001b[1;32m    141\u001b[0m \u001b[38;5;28;01mwith\u001b[39;00m LibSingularGBDefaultContext():\n\u001b[0;32m--> 142\u001b[0m     \u001b[38;5;28;01mreturn\u001b[39;00m \u001b[43mfunc\u001b[49m\u001b[43m(\u001b[49m\u001b[38;5;241;43m*\u001b[39;49m\u001b[43margs\u001b[49m\u001b[43m,\u001b[49m\u001b[43m \u001b[49m\u001b[38;5;241;43m*\u001b[39;49m\u001b[38;5;241;43m*\u001b[39;49m\u001b[43mkwds\u001b[49m\u001b[43m)\u001b[49m\n",
      "File \u001b[0;32m~/sage/local/var/lib/sage/venv-python3.10.5/lib/python3.10/site-packages/sage/rings/polynomial/multi_polynomial_ideal.py:540\u001b[0m, in \u001b[0;36mMPolynomialIdeal_singular_base_repr._groebner_basis_libsingular\u001b[0;34m(self, algorithm, *args, **kwds)\u001b[0m\n\u001b[1;32m    539\u001b[0m \u001b[38;5;28;01melif\u001b[39;00m algorithm \u001b[38;5;241m==\u001b[39m \u001b[38;5;124m\"\u001b[39m\u001b[38;5;124mgroebner\u001b[39m\u001b[38;5;124m\"\u001b[39m:\n\u001b[0;32m--> 540\u001b[0m     S \u001b[38;5;241m=\u001b[39m \u001b[43mgroebner\u001b[49m\u001b[43m(\u001b[49m\u001b[38;5;28;43mself\u001b[39;49m\u001b[43m)\u001b[49m\n\u001b[1;32m    541\u001b[0m \u001b[38;5;28;01melse\u001b[39;00m:\n",
      "File \u001b[0;32m~/sage/local/var/lib/sage/venv-python3.10.5/lib/python3.10/site-packages/sage/libs/singular/function.pyx:1308\u001b[0m, in \u001b[0;36msage.libs.singular.function.SingularFunction.__call__ (build/cythonized/sage/libs/singular/function.cpp:15360)\u001b[0;34m()\u001b[0m\n\u001b[1;32m   1307\u001b[0m if not (isinstance(ring, MPolynomialRing_libsingular) or isinstance(ring, NCPolynomialRing_plural)):\n\u001b[0;32m-> 1308\u001b[0m     raise TypeError(\"Cannot call Singular function '%s' with ring parameter of type '%s'\"%(self._name,type(ring)))\n\u001b[1;32m   1309\u001b[0m return call_function(self, args, ring, interruptible, attributes)\n",
      "\u001b[0;31mTypeError\u001b[0m: Cannot call Singular function 'groebner' with ring parameter of type '<class 'sage.rings.polynomial.multi_polynomial_ring.MPolynomialRing_polydict_domain_with_category'>'",
      "\nDuring handling of the above exception, another exception occurred:\n",
      "\u001b[0;31mKeyError\u001b[0m                                  Traceback (most recent call last)",
      "File \u001b[0;32m~/sage/local/var/lib/sage/venv-python3.10.5/lib/python3.10/site-packages/sage/misc/cachefunc.pyx:1932\u001b[0m, in \u001b[0;36msage.misc.cachefunc.CachedMethodCaller.__call__ (build/cythonized/sage/misc/cachefunc.c:10139)\u001b[0;34m()\u001b[0m\n\u001b[1;32m   1931\u001b[0m try:\n\u001b[0;32m-> 1932\u001b[0m     return cache[k]\n\u001b[1;32m   1933\u001b[0m except TypeError:  # k is not hashable\n",
      "\u001b[0;31mKeyError\u001b[0m: (('groebner', Singular), (('deg_bound', None), ('mult_bound', None)))",
      "\nDuring handling of the above exception, another exception occurred:\n",
      "\u001b[0;31mSingularError\u001b[0m                             Traceback (most recent call last)",
      "File \u001b[0;32m~/sage/local/var/lib/sage/venv-python3.10.5/lib/python3.10/site-packages/sage/interfaces/singular.py:1326\u001b[0m, in \u001b[0;36mSingularElement.__init__\u001b[0;34m(self, parent, type, value, is_name)\u001b[0m\n\u001b[1;32m   1325\u001b[0m \u001b[38;5;28;01mtry\u001b[39;00m:\n\u001b[0;32m-> 1326\u001b[0m     \u001b[38;5;28mself\u001b[39m\u001b[38;5;241m.\u001b[39m_name \u001b[38;5;241m=\u001b[39m \u001b[43mparent\u001b[49m\u001b[38;5;241;43m.\u001b[39;49m\u001b[43m_create\u001b[49m\u001b[43m(\u001b[49m\u001b[43mvalue\u001b[49m\u001b[43m,\u001b[49m\u001b[43m \u001b[49m\u001b[38;5;28;43mtype\u001b[39;49m\u001b[43m)\u001b[49m\n\u001b[1;32m   1327\u001b[0m \u001b[38;5;66;03m# Convert SingularError to TypeError for\u001b[39;00m\n\u001b[1;32m   1328\u001b[0m \u001b[38;5;66;03m# coercion to work properly.\u001b[39;00m\n",
      "File \u001b[0;32m~/sage/local/var/lib/sage/venv-python3.10.5/lib/python3.10/site-packages/sage/interfaces/singular.py:734\u001b[0m, in \u001b[0;36mSingular._create\u001b[0;34m(self, value, type)\u001b[0m\n\u001b[1;32m    733\u001b[0m name \u001b[38;5;241m=\u001b[39m \u001b[38;5;28mself\u001b[39m\u001b[38;5;241m.\u001b[39m_next_var_name()\n\u001b[0;32m--> 734\u001b[0m \u001b[38;5;28;43mself\u001b[39;49m\u001b[38;5;241;43m.\u001b[39;49m\u001b[43mset\u001b[49m\u001b[43m(\u001b[49m\u001b[38;5;28;43mtype\u001b[39;49m\u001b[43m,\u001b[49m\u001b[43m \u001b[49m\u001b[43mname\u001b[49m\u001b[43m,\u001b[49m\u001b[43m \u001b[49m\u001b[43mvalue\u001b[49m\u001b[43m)\u001b[49m\n\u001b[1;32m    735\u001b[0m \u001b[38;5;28;01mreturn\u001b[39;00m name\n",
      "File \u001b[0;32m~/sage/local/var/lib/sage/venv-python3.10.5/lib/python3.10/site-packages/sage/interfaces/singular.py:677\u001b[0m, in \u001b[0;36mSingular.set\u001b[0;34m(self, type, name, value)\u001b[0m\n\u001b[1;32m    676\u001b[0m \u001b[38;5;28mself\u001b[39m\u001b[38;5;241m.\u001b[39m__to_clear \u001b[38;5;241m=\u001b[39m []\n\u001b[0;32m--> 677\u001b[0m \u001b[38;5;28;43mself\u001b[39;49m\u001b[38;5;241;43m.\u001b[39;49m\u001b[43meval\u001b[49m\u001b[43m(\u001b[49m\u001b[43mcmd\u001b[49m\u001b[43m)\u001b[49m\n",
      "File \u001b[0;32m~/sage/local/var/lib/sage/venv-python3.10.5/lib/python3.10/site-packages/sage/interfaces/singular.py:635\u001b[0m, in \u001b[0;36mSingular.eval\u001b[0;34m(self, x, allow_semicolon, strip, **kwds)\u001b[0m\n\u001b[1;32m    634\u001b[0m \u001b[38;5;28;01mif\u001b[39;00m s\u001b[38;5;241m.\u001b[39mfind(\u001b[38;5;124m\"\u001b[39m\u001b[38;5;124merror occurred\u001b[39m\u001b[38;5;124m\"\u001b[39m) \u001b[38;5;241m!=\u001b[39m \u001b[38;5;241m-\u001b[39m\u001b[38;5;241m1\u001b[39m \u001b[38;5;129;01mor\u001b[39;00m s\u001b[38;5;241m.\u001b[39mfind(\u001b[38;5;124m\"\u001b[39m\u001b[38;5;124mSegment fault\u001b[39m\u001b[38;5;124m\"\u001b[39m) \u001b[38;5;241m!=\u001b[39m \u001b[38;5;241m-\u001b[39m\u001b[38;5;241m1\u001b[39m:\n\u001b[0;32m--> 635\u001b[0m     \u001b[38;5;28;01mraise\u001b[39;00m SingularError(\u001b[38;5;124m'\u001b[39m\u001b[38;5;124mSingular error:\u001b[39m\u001b[38;5;130;01m\\n\u001b[39;00m\u001b[38;5;132;01m%s\u001b[39;00m\u001b[38;5;124m'\u001b[39m\u001b[38;5;241m%\u001b[39ms)\n\u001b[1;32m    637\u001b[0m \u001b[38;5;28;01mif\u001b[39;00m get_verbose() \u001b[38;5;241m>\u001b[39m \u001b[38;5;241m0\u001b[39m:\n",
      "\u001b[0;31mSingularError\u001b[0m: Singular error:\n   ? `sage30` is undefined\n   ? error occurred in or before standard.lib::groebner line 840: `parameter def i_par; parameter list #;  `\n   ? leaving standard.lib::groebner (0)\n   skipping text from `;` error at token `)`",
      "\nDuring handling of the above exception, another exception occurred:\n",
      "\u001b[0;31mTypeError\u001b[0m                                 Traceback (most recent call last)",
      "File \u001b[0;32m~/sage/local/var/lib/sage/venv-python3.10.5/lib/python3.10/site-packages/sage/interfaces/singular.py:2756\u001b[0m, in \u001b[0;36msingular_gb_standard_options.<locals>.wrapper\u001b[0;34m(*args, **kwds)\u001b[0m\n\u001b[1;32m   2755\u001b[0m \u001b[38;5;28;01mwith\u001b[39;00m SingularGBDefaultContext():\n\u001b[0;32m-> 2756\u001b[0m     \u001b[38;5;28;01mreturn\u001b[39;00m \u001b[43mfunc\u001b[49m\u001b[43m(\u001b[49m\u001b[38;5;241;43m*\u001b[39;49m\u001b[43margs\u001b[49m\u001b[43m,\u001b[49m\u001b[43m \u001b[49m\u001b[38;5;241;43m*\u001b[39;49m\u001b[38;5;241;43m*\u001b[39;49m\u001b[43mkwds\u001b[49m\u001b[43m)\u001b[49m\n",
      "File \u001b[0;32m~/sage/local/var/lib/sage/venv-python3.10.5/lib/python3.10/site-packages/sage/rings/polynomial/multi_polynomial_ideal.py:1395\u001b[0m, in \u001b[0;36mMPolynomialIdeal_singular_repr._groebner_basis_singular\u001b[0;34m(self, algorithm, *args, **kwds)\u001b[0m\n\u001b[1;32m   1394\u001b[0m R \u001b[38;5;241m=\u001b[39m \u001b[38;5;28mself\u001b[39m\u001b[38;5;241m.\u001b[39mring()\n\u001b[0;32m-> 1395\u001b[0m S \u001b[38;5;241m=\u001b[39m \u001b[38;5;28;43mself\u001b[39;49m\u001b[38;5;241;43m.\u001b[39;49m\u001b[43m_groebner_basis_singular_raw\u001b[49m\u001b[43m(\u001b[49m\u001b[43malgorithm\u001b[49m\u001b[38;5;241;43m=\u001b[39;49m\u001b[43malgorithm\u001b[49m\u001b[43m,\u001b[49m\u001b[43m \u001b[49m\u001b[38;5;241;43m*\u001b[39;49m\u001b[43margs\u001b[49m\u001b[43m,\u001b[49m\u001b[43m \u001b[49m\u001b[38;5;241;43m*\u001b[39;49m\u001b[38;5;241;43m*\u001b[39;49m\u001b[43mkwds\u001b[49m\u001b[43m)\u001b[49m\n\u001b[1;32m   1396\u001b[0m S \u001b[38;5;241m=\u001b[39m  PolynomialSequence([R(S[i\u001b[38;5;241m+\u001b[39m\u001b[38;5;241m1\u001b[39m]) \u001b[38;5;28;01mfor\u001b[39;00m i \u001b[38;5;129;01min\u001b[39;00m \u001b[38;5;28mrange\u001b[39m(\u001b[38;5;28mlen\u001b[39m(S))], R, immutable\u001b[38;5;241m=\u001b[39m\u001b[38;5;28;01mTrue\u001b[39;00m)\n",
      "File \u001b[0;32m~/sage/local/var/lib/sage/venv-python3.10.5/lib/python3.10/site-packages/sage/misc/cachefunc.pyx:1937\u001b[0m, in \u001b[0;36msage.misc.cachefunc.CachedMethodCaller.__call__ (build/cythonized/sage/misc/cachefunc.c:10275)\u001b[0;34m()\u001b[0m\n\u001b[1;32m   1936\u001b[0m except KeyError:\n\u001b[0;32m-> 1937\u001b[0m     w = self._instance_call(*args, **kwds)\n\u001b[1;32m   1938\u001b[0m     cache[k] = w\n",
      "File \u001b[0;32m~/sage/local/var/lib/sage/venv-python3.10.5/lib/python3.10/site-packages/sage/misc/cachefunc.pyx:1813\u001b[0m, in \u001b[0;36msage.misc.cachefunc.CachedMethodCaller._instance_call (build/cythonized/sage/misc/cachefunc.c:9741)\u001b[0;34m()\u001b[0m\n\u001b[1;32m   1812\u001b[0m \"\"\"\n\u001b[0;32m-> 1813\u001b[0m return self.f(self._instance, *args, **kwds)\n\u001b[1;32m   1814\u001b[0m \n",
      "File \u001b[0;32m~/sage/local/var/lib/sage/venv-python3.10.5/lib/python3.10/site-packages/sage/rings/polynomial/multi_polynomial_ideal.py:1465\u001b[0m, in \u001b[0;36mMPolynomialIdeal_singular_repr._groebner_basis_singular_raw\u001b[0;34m(self, algorithm, singular, *args, **kwds)\u001b[0m\n\u001b[1;32m   1464\u001b[0m \u001b[38;5;28;01mif\u001b[39;00m algorithm \u001b[38;5;241m==\u001b[39m \u001b[38;5;124m\"\u001b[39m\u001b[38;5;124mgroebner\u001b[39m\u001b[38;5;124m\"\u001b[39m:\n\u001b[0;32m-> 1465\u001b[0m     S \u001b[38;5;241m=\u001b[39m \u001b[43mobj\u001b[49m\u001b[38;5;241;43m.\u001b[39;49m\u001b[43mgroebner\u001b[49m\u001b[43m(\u001b[49m\u001b[43m)\u001b[49m\n\u001b[1;32m   1466\u001b[0m \u001b[38;5;28;01melif\u001b[39;00m algorithm \u001b[38;5;241m==\u001b[39m \u001b[38;5;124m\"\u001b[39m\u001b[38;5;124mstd\u001b[39m\u001b[38;5;124m\"\u001b[39m:\n",
      "File \u001b[0;32m~/sage/local/var/lib/sage/venv-python3.10.5/lib/python3.10/site-packages/sage/interfaces/interface.py:694\u001b[0m, in \u001b[0;36mInterfaceFunctionElement.__call__\u001b[0;34m(self, *args, **kwds)\u001b[0m\n\u001b[1;32m    693\u001b[0m \u001b[38;5;28;01mdef\u001b[39;00m \u001b[38;5;21m__call__\u001b[39m(\u001b[38;5;28mself\u001b[39m, \u001b[38;5;241m*\u001b[39margs, \u001b[38;5;241m*\u001b[39m\u001b[38;5;241m*\u001b[39mkwds):\n\u001b[0;32m--> 694\u001b[0m     \u001b[38;5;28;01mreturn\u001b[39;00m \u001b[38;5;28;43mself\u001b[39;49m\u001b[38;5;241;43m.\u001b[39;49m\u001b[43m_obj\u001b[49m\u001b[38;5;241;43m.\u001b[39;49m\u001b[43mparent\u001b[49m\u001b[43m(\u001b[49m\u001b[43m)\u001b[49m\u001b[38;5;241;43m.\u001b[39;49m\u001b[43mfunction_call\u001b[49m\u001b[43m(\u001b[49m\u001b[38;5;28;43mself\u001b[39;49m\u001b[38;5;241;43m.\u001b[39;49m\u001b[43m_name\u001b[49m\u001b[43m,\u001b[49m\u001b[43m \u001b[49m\u001b[43m[\u001b[49m\u001b[38;5;28;43mself\u001b[39;49m\u001b[38;5;241;43m.\u001b[39;49m\u001b[43m_obj\u001b[49m\u001b[43m]\u001b[49m\u001b[43m \u001b[49m\u001b[38;5;241;43m+\u001b[39;49m\u001b[43m \u001b[49m\u001b[38;5;28;43mlist\u001b[39;49m\u001b[43m(\u001b[49m\u001b[43margs\u001b[49m\u001b[43m)\u001b[49m\u001b[43m,\u001b[49m\u001b[43m \u001b[49m\u001b[43mkwds\u001b[49m\u001b[43m)\u001b[49m\n",
      "File \u001b[0;32m~/sage/local/var/lib/sage/venv-python3.10.5/lib/python3.10/site-packages/sage/interfaces/interface.py:614\u001b[0m, in \u001b[0;36mInterface.function_call\u001b[0;34m(self, function, args, kwds)\u001b[0m\n\u001b[1;32m    611\u001b[0m s \u001b[38;5;241m=\u001b[39m \u001b[38;5;28mself\u001b[39m\u001b[38;5;241m.\u001b[39m_function_call_string(function,\n\u001b[1;32m    612\u001b[0m                                [s\u001b[38;5;241m.\u001b[39mname() \u001b[38;5;28;01mfor\u001b[39;00m s \u001b[38;5;129;01min\u001b[39;00m args],\n\u001b[1;32m    613\u001b[0m                                [\u001b[38;5;124m'\u001b[39m\u001b[38;5;132;01m%s\u001b[39;00m\u001b[38;5;124m=\u001b[39m\u001b[38;5;132;01m%s\u001b[39;00m\u001b[38;5;124m'\u001b[39m\u001b[38;5;241m%\u001b[39m(key,value\u001b[38;5;241m.\u001b[39mname()) \u001b[38;5;28;01mfor\u001b[39;00m key, value \u001b[38;5;129;01min\u001b[39;00m kwds\u001b[38;5;241m.\u001b[39mitems()])\n\u001b[0;32m--> 614\u001b[0m \u001b[38;5;28;01mreturn\u001b[39;00m \u001b[38;5;28;43mself\u001b[39;49m\u001b[38;5;241;43m.\u001b[39;49m\u001b[43mnew\u001b[49m\u001b[43m(\u001b[49m\u001b[43ms\u001b[49m\u001b[43m)\u001b[49m\n",
      "File \u001b[0;32m~/sage/local/var/lib/sage/venv-python3.10.5/lib/python3.10/site-packages/sage/interfaces/interface.py:383\u001b[0m, in \u001b[0;36mInterface.new\u001b[0;34m(self, code)\u001b[0m\n\u001b[1;32m    382\u001b[0m \u001b[38;5;28;01mdef\u001b[39;00m \u001b[38;5;21mnew\u001b[39m(\u001b[38;5;28mself\u001b[39m, code):\n\u001b[0;32m--> 383\u001b[0m     \u001b[38;5;28;01mreturn\u001b[39;00m \u001b[38;5;28;43mself\u001b[39;49m\u001b[43m(\u001b[49m\u001b[43mcode\u001b[49m\u001b[43m)\u001b[49m\n",
      "File \u001b[0;32m~/sage/local/var/lib/sage/venv-python3.10.5/lib/python3.10/site-packages/sage/interfaces/singular.py:773\u001b[0m, in \u001b[0;36mSingular.__call__\u001b[0;34m(self, x, type)\u001b[0m\n\u001b[1;32m    771\u001b[0m     x \u001b[38;5;241m=\u001b[39m \u001b[38;5;28mstr\u001b[39m(x)[\u001b[38;5;241m1\u001b[39m:\u001b[38;5;241m-\u001b[39m\u001b[38;5;241m1\u001b[39m]\n\u001b[0;32m--> 773\u001b[0m \u001b[38;5;28;01mreturn\u001b[39;00m \u001b[43mSingularElement\u001b[49m\u001b[43m(\u001b[49m\u001b[38;5;28;43mself\u001b[39;49m\u001b[43m,\u001b[49m\u001b[43m \u001b[49m\u001b[38;5;28;43mtype\u001b[39;49m\u001b[43m,\u001b[49m\u001b[43m \u001b[49m\u001b[43mx\u001b[49m\u001b[43m,\u001b[49m\u001b[43m \u001b[49m\u001b[38;5;28;43;01mFalse\u001b[39;49;00m\u001b[43m)\u001b[49m\n",
      "File \u001b[0;32m~/sage/local/var/lib/sage/venv-python3.10.5/lib/python3.10/site-packages/sage/interfaces/singular.py:1331\u001b[0m, in \u001b[0;36mSingularElement.__init__\u001b[0;34m(self, parent, type, value, is_name)\u001b[0m\n\u001b[1;32m   1330\u001b[0m     \u001b[38;5;28mself\u001b[39m\u001b[38;5;241m.\u001b[39m_session_number \u001b[38;5;241m=\u001b[39m \u001b[38;5;241m-\u001b[39m\u001b[38;5;241m1\u001b[39m\n\u001b[0;32m-> 1331\u001b[0m     \u001b[38;5;28;01mraise\u001b[39;00m \u001b[38;5;167;01mTypeError\u001b[39;00m(x)\n\u001b[1;32m   1332\u001b[0m \u001b[38;5;28;01mexcept\u001b[39;00m \u001b[38;5;167;01mBaseException\u001b[39;00m:\n",
      "\u001b[0;31mTypeError\u001b[0m: Singular error:\n   ? `sage30` is undefined\n   ? error occurred in or before standard.lib::groebner line 840: `parameter def i_par; parameter list #;  `\n   ? leaving standard.lib::groebner (0)\n   skipping text from `;` error at token `)`",
      "\nDuring handling of the above exception, another exception occurred:\n",
      "\u001b[0;31mSingularError\u001b[0m                             Traceback (most recent call last)",
      "Input \u001b[0;32mIn [2]\u001b[0m, in \u001b[0;36m<cell line: 25>\u001b[0;34m()\u001b[0m\n\u001b[1;32m     20\u001b[0m     \u001b[38;5;66;03m#fi = quote_sigs[i][0] * (quote_sigs[j][1] * poly(ks[i]) - hsh(quotes[j])) - (quote_sigs[j][0] * (quote_sigs[i][1] * ks[i] - hsh(quotes[i])))\u001b[39;00m\n\u001b[1;32m     21\u001b[0m \n\u001b[1;32m     22\u001b[0m \u001b[38;5;66;03m#print(eqns)\u001b[39;00m\n\u001b[1;32m     24\u001b[0m I \u001b[38;5;241m=\u001b[39m Ideal(eqns)\n\u001b[0;32m---> 25\u001b[0m bbb \u001b[38;5;241m=\u001b[39m \u001b[43mI\u001b[49m\u001b[38;5;241;43m.\u001b[39;49m\u001b[43mgroebner_basis\u001b[49m\u001b[43m(\u001b[49m\u001b[43m)\u001b[49m\n\u001b[1;32m     27\u001b[0m \u001b[38;5;28;01mfor\u001b[39;00m _poly \u001b[38;5;129;01min\u001b[39;00m bbb:\n\u001b[1;32m     28\u001b[0m     \u001b[38;5;28mprint\u001b[39m(_poly)\n",
      "File \u001b[0;32m~/sage/local/var/lib/sage/venv-python3.10.5/lib/python3.10/site-packages/sage/misc/cachefunc.pyx:1937\u001b[0m, in \u001b[0;36msage.misc.cachefunc.CachedMethodCaller.__call__ (build/cythonized/sage/misc/cachefunc.c:10275)\u001b[0;34m()\u001b[0m\n\u001b[1;32m   1935\u001b[0m         return cache[k]\n\u001b[1;32m   1936\u001b[0m except KeyError:\n\u001b[0;32m-> 1937\u001b[0m     w = self._instance_call(*args, **kwds)\n\u001b[1;32m   1938\u001b[0m     cache[k] = w\n\u001b[1;32m   1939\u001b[0m     return w\n",
      "File \u001b[0;32m~/sage/local/var/lib/sage/venv-python3.10.5/lib/python3.10/site-packages/sage/misc/cachefunc.pyx:1813\u001b[0m, in \u001b[0;36msage.misc.cachefunc.CachedMethodCaller._instance_call (build/cythonized/sage/misc/cachefunc.c:9741)\u001b[0;34m()\u001b[0m\n\u001b[1;32m   1811\u001b[0m         True\n\u001b[1;32m   1812\u001b[0m     \"\"\"\n\u001b[0;32m-> 1813\u001b[0m     return self.f(self._instance, *args, **kwds)\n\u001b[1;32m   1814\u001b[0m \n\u001b[1;32m   1815\u001b[0m cdef fix_args_kwds(self, tuple args, dict kwds):\n",
      "File \u001b[0;32m~/sage/local/var/lib/sage/venv-python3.10.5/lib/python3.10/site-packages/sage/rings/qqbar_decorators.py:96\u001b[0m, in \u001b[0;36mhandle_AA_and_QQbar.<locals>.wrapper\u001b[0;34m(*args, **kwds)\u001b[0m\n\u001b[1;32m     90\u001b[0m \u001b[38;5;28;01mfrom\u001b[39;00m \u001b[38;5;21;01msage\u001b[39;00m\u001b[38;5;21;01m.\u001b[39;00m\u001b[38;5;21;01mrings\u001b[39;00m\u001b[38;5;21;01m.\u001b[39;00m\u001b[38;5;21;01mqqbar\u001b[39;00m \u001b[38;5;28;01mimport\u001b[39;00m AlgebraicField_common, number_field_elements_from_algebraics\n\u001b[1;32m     92\u001b[0m \u001b[38;5;28;01mif\u001b[39;00m \u001b[38;5;129;01mnot\u001b[39;00m \u001b[38;5;28many\u001b[39m(\u001b[38;5;28misinstance\u001b[39m(a, (Polynomial, MPolynomial, Ideal_generic))\n\u001b[1;32m     93\u001b[0m            \u001b[38;5;129;01mand\u001b[39;00m \u001b[38;5;28misinstance\u001b[39m(a\u001b[38;5;241m.\u001b[39mbase_ring(), AlgebraicField_common)\n\u001b[1;32m     94\u001b[0m            \u001b[38;5;129;01mor\u001b[39;00m is_PolynomialSequence(a)\n\u001b[1;32m     95\u001b[0m            \u001b[38;5;129;01mand\u001b[39;00m \u001b[38;5;28misinstance\u001b[39m(a\u001b[38;5;241m.\u001b[39mring()\u001b[38;5;241m.\u001b[39mbase_ring(), AlgebraicField_common) \u001b[38;5;28;01mfor\u001b[39;00m a \u001b[38;5;129;01min\u001b[39;00m args):\n\u001b[0;32m---> 96\u001b[0m     \u001b[38;5;28;01mreturn\u001b[39;00m \u001b[43mfunc\u001b[49m\u001b[43m(\u001b[49m\u001b[38;5;241;43m*\u001b[39;49m\u001b[43margs\u001b[49m\u001b[43m,\u001b[49m\u001b[43m \u001b[49m\u001b[38;5;241;43m*\u001b[39;49m\u001b[38;5;241;43m*\u001b[39;49m\u001b[43mkwds\u001b[49m\u001b[43m)\u001b[49m\n\u001b[1;32m     98\u001b[0m polynomials \u001b[38;5;241m=\u001b[39m []\n\u001b[1;32m    100\u001b[0m \u001b[38;5;28;01mfor\u001b[39;00m a \u001b[38;5;129;01min\u001b[39;00m flatten(args, ltypes\u001b[38;5;241m=\u001b[39m(\u001b[38;5;28mlist\u001b[39m, \u001b[38;5;28mtuple\u001b[39m, \u001b[38;5;28mset\u001b[39m)):\n",
      "File \u001b[0;32m~/sage/local/var/lib/sage/venv-python3.10.5/lib/python3.10/site-packages/sage/rings/polynomial/multi_polynomial_ideal.py:4354\u001b[0m, in \u001b[0;36mMPolynomialIdeal.groebner_basis\u001b[0;34m(self, algorithm, deg_bound, mult_bound, prot, *args, **kwds)\u001b[0m\n\u001b[1;32m   4352\u001b[0m \u001b[38;5;28;01mexcept\u001b[39;00m (\u001b[38;5;167;01mTypeError\u001b[39;00m, \u001b[38;5;167;01mNameError\u001b[39;00m): \u001b[38;5;66;03m# conversion to Singular not supported\u001b[39;00m\n\u001b[1;32m   4353\u001b[0m     \u001b[38;5;28;01mtry\u001b[39;00m:\n\u001b[0;32m-> 4354\u001b[0m         gb \u001b[38;5;241m=\u001b[39m \u001b[38;5;28;43mself\u001b[39;49m\u001b[38;5;241;43m.\u001b[39;49m\u001b[43m_groebner_basis_singular\u001b[49m\u001b[43m(\u001b[49m\u001b[38;5;124;43m\"\u001b[39;49m\u001b[38;5;124;43mgroebner\u001b[39;49m\u001b[38;5;124;43m\"\u001b[39;49m\u001b[43m,\u001b[49m\u001b[43m \u001b[49m\u001b[43mdeg_bound\u001b[49m\u001b[38;5;241;43m=\u001b[39;49m\u001b[43mdeg_bound\u001b[49m\u001b[43m,\u001b[49m\u001b[43m \u001b[49m\u001b[43mmult_bound\u001b[49m\u001b[38;5;241;43m=\u001b[39;49m\u001b[43mmult_bound\u001b[49m\u001b[43m,\u001b[49m\u001b[43m \u001b[49m\u001b[38;5;241;43m*\u001b[39;49m\u001b[43margs\u001b[49m\u001b[43m,\u001b[49m\u001b[43m \u001b[49m\u001b[38;5;241;43m*\u001b[39;49m\u001b[38;5;241;43m*\u001b[39;49m\u001b[43mkwds\u001b[49m\u001b[43m)\u001b[49m\n\u001b[1;32m   4355\u001b[0m     \u001b[38;5;28;01mexcept\u001b[39;00m (\u001b[38;5;167;01mTypeError\u001b[39;00m, \u001b[38;5;167;01mNameError\u001b[39;00m, \u001b[38;5;167;01mNotImplementedError\u001b[39;00m): \u001b[38;5;66;03m# conversion to Singular not supported\u001b[39;00m\n\u001b[1;32m   4356\u001b[0m         R \u001b[38;5;241m=\u001b[39m \u001b[38;5;28mself\u001b[39m\u001b[38;5;241m.\u001b[39mring()\n",
      "File \u001b[0;32m~/sage/local/var/lib/sage/venv-python3.10.5/lib/python3.10/site-packages/sage/interfaces/singular.py:2755\u001b[0m, in \u001b[0;36msingular_gb_standard_options.<locals>.wrapper\u001b[0;34m(*args, **kwds)\u001b[0m\n\u001b[1;32m   2753\u001b[0m \u001b[38;5;129m@sage_wraps\u001b[39m(func)\n\u001b[1;32m   2754\u001b[0m \u001b[38;5;28;01mdef\u001b[39;00m \u001b[38;5;21mwrapper\u001b[39m(\u001b[38;5;241m*\u001b[39margs, \u001b[38;5;241m*\u001b[39m\u001b[38;5;241m*\u001b[39mkwds):\n\u001b[0;32m-> 2755\u001b[0m     \u001b[38;5;28;01mwith\u001b[39;00m SingularGBDefaultContext():\n\u001b[1;32m   2756\u001b[0m         \u001b[38;5;28;01mreturn\u001b[39;00m func(\u001b[38;5;241m*\u001b[39margs, \u001b[38;5;241m*\u001b[39m\u001b[38;5;241m*\u001b[39mkwds)\n",
      "File \u001b[0;32m~/sage/local/var/lib/sage/venv-python3.10.5/lib/python3.10/site-packages/sage/interfaces/singular.py:2708\u001b[0m, in \u001b[0;36mSingularGBDefaultContext.__exit__\u001b[0;34m(self, typ, value, tb)\u001b[0m\n\u001b[1;32m   2692\u001b[0m \u001b[38;5;28;01mdef\u001b[39;00m \u001b[38;5;21m__exit__\u001b[39m(\u001b[38;5;28mself\u001b[39m, typ, value, tb):\n\u001b[1;32m   2693\u001b[0m     \u001b[38;5;124;03m\"\"\"\u001b[39;00m\n\u001b[1;32m   2694\u001b[0m \u001b[38;5;124;03m    EXAMPLES::\u001b[39;00m\n\u001b[1;32m   2695\u001b[0m \n\u001b[0;32m   (...)\u001b[0m\n\u001b[1;32m   2706\u001b[0m \u001b[38;5;124;03m        7*a-420*c^3+158*c^2+8*c-7\u001b[39;00m\n\u001b[1;32m   2707\u001b[0m \u001b[38;5;124;03m    \"\"\"\u001b[39;00m\n\u001b[0;32m-> 2708\u001b[0m     \u001b[38;5;28;43mself\u001b[39;49m\u001b[38;5;241;43m.\u001b[39;49m\u001b[43msingular\u001b[49m\u001b[38;5;241;43m.\u001b[39;49m\u001b[43moption\u001b[49m\u001b[43m(\u001b[49m\u001b[38;5;124;43m\"\u001b[39;49m\u001b[38;5;124;43mset\u001b[39;49m\u001b[38;5;124;43m\"\u001b[39;49m\u001b[43m,\u001b[49m\u001b[43m \u001b[49m\u001b[38;5;28;43mself\u001b[39;49m\u001b[38;5;241;43m.\u001b[39;49m\u001b[43mo\u001b[49m\u001b[43m)\u001b[49m\n\u001b[1;32m   2709\u001b[0m     \u001b[38;5;28;01mtry\u001b[39;00m:\n\u001b[1;32m   2710\u001b[0m         \u001b[38;5;28mself\u001b[39m\u001b[38;5;241m.\u001b[39msingular\u001b[38;5;241m.\u001b[39meval(\u001b[38;5;124m'\u001b[39m\u001b[38;5;124mdegBound=\u001b[39m\u001b[38;5;132;01m%d\u001b[39;00m\u001b[38;5;124m'\u001b[39m \u001b[38;5;241m%\u001b[39m \u001b[38;5;28mself\u001b[39m\u001b[38;5;241m.\u001b[39mbck_degBound)\n",
      "File \u001b[0;32m~/sage/local/var/lib/sage/venv-python3.10.5/lib/python3.10/site-packages/sage/interfaces/singular.py:1296\u001b[0m, in \u001b[0;36mSingular.option\u001b[0;34m(self, cmd, val)\u001b[0m\n\u001b[1;32m   1294\u001b[0m         \u001b[38;5;28;01mraise\u001b[39;00m \u001b[38;5;167;01mTypeError\u001b[39;00m(\u001b[38;5;124m\"\u001b[39m\u001b[38;5;124msingular.option(\u001b[39m\u001b[38;5;124m'\u001b[39m\u001b[38;5;124mset\u001b[39m\u001b[38;5;124m'\u001b[39m\u001b[38;5;124m) needs SingularElement as second parameter\u001b[39m\u001b[38;5;124m\"\u001b[39m)\n\u001b[1;32m   1295\u001b[0m     \u001b[38;5;66;03m#SingularFunction(self,\"option\")(\"\\\"set\\\"\",val)\u001b[39;00m\n\u001b[0;32m-> 1296\u001b[0m     \u001b[38;5;28;43mself\u001b[39;49m\u001b[38;5;241;43m.\u001b[39;49m\u001b[43meval\u001b[49m\u001b[43m(\u001b[49m\u001b[38;5;124;43m\"\u001b[39;49m\u001b[38;5;124;43moption(set,\u001b[39;49m\u001b[38;5;132;43;01m%s\u001b[39;49;00m\u001b[38;5;124;43m)\u001b[39;49m\u001b[38;5;124;43m\"\u001b[39;49m\u001b[43m \u001b[49m\u001b[38;5;241;43m%\u001b[39;49m\u001b[43m \u001b[49m\u001b[43mval\u001b[49m\u001b[38;5;241;43m.\u001b[39;49m\u001b[43mname\u001b[49m\u001b[43m(\u001b[49m\u001b[43m)\u001b[49m\u001b[43m)\u001b[49m\n\u001b[1;32m   1297\u001b[0m \u001b[38;5;28;01melse\u001b[39;00m:\n\u001b[1;32m   1298\u001b[0m     SingularFunction(\u001b[38;5;28mself\u001b[39m,\u001b[38;5;124m\"\u001b[39m\u001b[38;5;124moption\u001b[39m\u001b[38;5;124m\"\u001b[39m)(\u001b[38;5;124m\"\u001b[39m\u001b[38;5;130;01m\\\"\u001b[39;00m\u001b[38;5;124m\"\u001b[39m\u001b[38;5;241m+\u001b[39m\u001b[38;5;28mstr\u001b[39m(cmd)\u001b[38;5;241m+\u001b[39m\u001b[38;5;124m\"\u001b[39m\u001b[38;5;130;01m\\\"\u001b[39;00m\u001b[38;5;124m\"\u001b[39m)\n",
      "File \u001b[0;32m~/sage/local/var/lib/sage/venv-python3.10.5/lib/python3.10/site-packages/sage/interfaces/singular.py:635\u001b[0m, in \u001b[0;36mSingular.eval\u001b[0;34m(self, x, allow_semicolon, strip, **kwds)\u001b[0m\n\u001b[1;32m    632\u001b[0m \u001b[38;5;66;03m# \"Segment fault\" is not a typo:\u001b[39;00m\n\u001b[1;32m    633\u001b[0m \u001b[38;5;66;03m# Singular actually does use that string\u001b[39;00m\n\u001b[1;32m    634\u001b[0m \u001b[38;5;28;01mif\u001b[39;00m s\u001b[38;5;241m.\u001b[39mfind(\u001b[38;5;124m\"\u001b[39m\u001b[38;5;124merror occurred\u001b[39m\u001b[38;5;124m\"\u001b[39m) \u001b[38;5;241m!=\u001b[39m \u001b[38;5;241m-\u001b[39m\u001b[38;5;241m1\u001b[39m \u001b[38;5;129;01mor\u001b[39;00m s\u001b[38;5;241m.\u001b[39mfind(\u001b[38;5;124m\"\u001b[39m\u001b[38;5;124mSegment fault\u001b[39m\u001b[38;5;124m\"\u001b[39m) \u001b[38;5;241m!=\u001b[39m \u001b[38;5;241m-\u001b[39m\u001b[38;5;241m1\u001b[39m:\n\u001b[0;32m--> 635\u001b[0m     \u001b[38;5;28;01mraise\u001b[39;00m SingularError(\u001b[38;5;124m'\u001b[39m\u001b[38;5;124mSingular error:\u001b[39m\u001b[38;5;130;01m\\n\u001b[39;00m\u001b[38;5;132;01m%s\u001b[39;00m\u001b[38;5;124m'\u001b[39m\u001b[38;5;241m%\u001b[39ms)\n\u001b[1;32m    637\u001b[0m \u001b[38;5;28;01mif\u001b[39;00m get_verbose() \u001b[38;5;241m>\u001b[39m \u001b[38;5;241m0\u001b[39m:\n\u001b[1;32m    638\u001b[0m     \u001b[38;5;28;01mfor\u001b[39;00m line \u001b[38;5;129;01min\u001b[39;00m s\u001b[38;5;241m.\u001b[39msplitlines():\n",
      "\u001b[0;31mSingularError\u001b[0m: Singular error:\n   ? unknown option `set`\n   ? unknown option `sage7`\n   ? error occurred in or before STDIN line 12: `option(set,sage7);`"
     ]
    },
    {
     "name": "stderr",
     "output_type": "stream",
     "text": [
      "IOStream.flush timed out\n",
      "IOStream.flush timed out\n"
     ]
    }
   ],
   "source": [
    "# s_i*k_i = H(m_i) + d*r_i mod q\n",
    "# k0 = poly(state0)\n",
    "# k_i = (H(m_i) + d*r_i) / s_i mod q\n",
    "# k_j = poly(k_i)\n",
    "# k_j = poly((H(m_i) + d*r_i) / s_i)\n",
    "# s_j*k_j = H(m_j) + d*r_j mod q\n",
    "# let k_j = c0 + c1*k_i + c2*k_i^2 + ... + c15*k_i^15\n",
    "# (s_j*k_j - H(m_j)) / r_j = (s_i*k_i - H(m_i)) / r_i\n",
    "# (s_j*F(k_i) - H(m_j)) / r_j = (s_i*k_i - H(m_i)) / r_i\n",
    "\n",
    "#eqns = [quote_sigs[0][1]*k0 - (hsh(quotes[0]) + d*quote_sigs[0][0])]\n",
    "eqns = []\n",
    "for i in range(1, len(quotes)):\n",
    "    # ki = poly(k_i - 1)\n",
    "    prev_mi = quotes[i - 1]\n",
    "    prev_ri = quote_sigs[i - 1][0]\n",
    "    prev_si = quote_sigs[i - 1][1]\n",
    "    ki = poly((hash(prev_mi) + d*prev_ri) / prev_si)\n",
    "    eqns.append(quote_sigs[i][1]*ki - (hsh(quotes[i]) + d*quote_sigs[i][0]))\n",
    "    #fi = quote_sigs[i][0] * (quote_sigs[j][1] * poly(ks[i]) - hsh(quotes[j])) - (quote_sigs[j][0] * (quote_sigs[i][1] * ks[i] - hsh(quotes[i])))\n",
    "\n",
    "#print(eqns)\n",
    "    \n",
    "I = Ideal(eqns)\n",
    "bbb = I.groebner_basis()\n",
    "\n",
    "for _poly in bbb:\n",
    "    print(_poly)"
   ]
  },
  {
   "cell_type": "code",
   "execution_count": null,
   "id": "ece14d98",
   "metadata": {},
   "outputs": [],
   "source": []
  }
 ],
 "metadata": {
  "kernelspec": {
   "display_name": "SageMath 9.7",
   "language": "sage",
   "name": "sagemath"
  },
  "language_info": {
   "codemirror_mode": {
    "name": "ipython",
    "version": 3
   },
   "file_extension": ".py",
   "mimetype": "text/x-python",
   "name": "python",
   "nbconvert_exporter": "python",
   "pygments_lexer": "ipython3",
   "version": "3.10.5"
  }
 },
 "nbformat": 4,
 "nbformat_minor": 5
}
